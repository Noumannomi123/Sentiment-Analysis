{
 "cells": [
  {
   "cell_type": "code",
   "execution_count": 1,
   "id": "78647e48-ff46-4de4-b64c-7db2e5b97f2c",
   "metadata": {},
   "outputs": [],
   "source": [
    "import pandas as pd"
   ]
  },
  {
   "cell_type": "code",
   "execution_count": 2,
   "id": "8a5557d9-9945-4bd4-b71e-95fc5e721e4c",
   "metadata": {},
   "outputs": [],
   "source": [
    "# df = pd.read_excel('Messages/messages.xlsx')\n",
    "# df = pd.read_excel('Messages/labelled_messages.xlsx')\n",
    "# df = pd.read_excel('Messages/final_msgz.xlsx')\n",
    "df = pd.read_excel('Messages/merged.xlsx')"
   ]
  },
  {
   "cell_type": "code",
   "execution_count": 3,
   "id": "4f581b2a-c307-464d-a1ea-fe6b328b4058",
   "metadata": {},
   "outputs": [],
   "source": [
    "df = df[(df['Sentiment'] == 0) | (df['Sentiment'] == 1)]"
   ]
  },
  {
   "cell_type": "code",
   "execution_count": 4,
   "id": "2d9cd541-3b16-4c54-a370-930cd59adacc",
   "metadata": {},
   "outputs": [
    {
     "data": {
      "text/plain": [
       "array([1, 0], dtype=int64)"
      ]
     },
     "execution_count": 4,
     "metadata": {},
     "output_type": "execute_result"
    }
   ],
   "source": [
    "df['Sentiment'].unique()"
   ]
  },
  {
   "cell_type": "code",
   "execution_count": 5,
   "id": "ad9a43e5-2e3e-4056-abf6-9941b47c4f5a",
   "metadata": {},
   "outputs": [],
   "source": [
    "idx = len(df) - 1"
   ]
  },
  {
   "cell_type": "code",
   "execution_count": 6,
   "id": "bf99db59-066e-403b-96a3-f03366e77133",
   "metadata": {},
   "outputs": [],
   "source": [
    "df.reset_index(drop=True, inplace=True)"
   ]
  },
  {
   "cell_type": "code",
   "execution_count": 7,
   "id": "b0001f68-4937-47fa-8e24-e843268a78d8",
   "metadata": {},
   "outputs": [
    {
     "data": {
      "text/plain": [
       "Message      sorry for taking over twitter with my i-can`t-...\n",
       "Sentiment                                                    1\n",
       "Name: 19520, dtype: object"
      ]
     },
     "execution_count": 7,
     "metadata": {},
     "output_type": "execute_result"
    }
   ],
   "source": [
    "df.iloc[idx]"
   ]
  },
  {
   "cell_type": "code",
   "execution_count": 8,
   "id": "cc325af7-4422-49d4-8503-13940e41e767",
   "metadata": {},
   "outputs": [],
   "source": [
    "import string\n",
    "import numpy as np\n",
    "def check_english(msg):\n",
    "    new_msg = ''\n",
    "    alpha = ' '.join(string.ascii_letters).split() \n",
    "    alpha.append(' ')\n",
    "    for char in msg:\n",
    "        if char in alpha:\n",
    "            new_msg = new_msg + char\n",
    "    msg = new_msg\n",
    "    return np.nan if len(msg.split()) == 0 else msg"
   ]
  },
  {
   "cell_type": "code",
   "execution_count": 9,
   "id": "f824f730-f73f-460a-a674-3400a8e6be43",
   "metadata": {},
   "outputs": [],
   "source": [
    "count = len(df.iloc[:idx + 1][df.iloc[:idx+1]['Message'].isna()])\n",
    "idx -= count"
   ]
  },
  {
   "cell_type": "code",
   "execution_count": 10,
   "id": "b650884c-d510-4793-be09-16dbe68ac4e2",
   "metadata": {},
   "outputs": [],
   "source": [
    "df.dropna(inplace=True)"
   ]
  },
  {
   "cell_type": "code",
   "execution_count": 11,
   "id": "dc006288-5808-4b46-b94f-b168f331845d",
   "metadata": {},
   "outputs": [
    {
     "data": {
      "text/plain": [
       "Message      sorry for taking over twitter with my i-can`t-...\n",
       "Sentiment                                                    1\n",
       "Name: 19520, dtype: object"
      ]
     },
     "execution_count": 11,
     "metadata": {},
     "output_type": "execute_result"
    }
   ],
   "source": [
    "df.iloc[idx]"
   ]
  },
  {
   "cell_type": "code",
   "execution_count": 12,
   "id": "a8e72a76-f27f-4fd1-ad6e-ea54854286a2",
   "metadata": {},
   "outputs": [
    {
     "data": {
      "text/html": [
       "<div>\n",
       "<style scoped>\n",
       "    .dataframe tbody tr th:only-of-type {\n",
       "        vertical-align: middle;\n",
       "    }\n",
       "\n",
       "    .dataframe tbody tr th {\n",
       "        vertical-align: top;\n",
       "    }\n",
       "\n",
       "    .dataframe thead th {\n",
       "        text-align: right;\n",
       "    }\n",
       "</style>\n",
       "<table border=\"1\" class=\"dataframe\">\n",
       "  <thead>\n",
       "    <tr style=\"text-align: right;\">\n",
       "      <th></th>\n",
       "      <th>Message</th>\n",
       "      <th>Sentiment</th>\n",
       "    </tr>\n",
       "  </thead>\n",
       "  <tbody>\n",
       "  </tbody>\n",
       "</table>\n",
       "</div>"
      ],
      "text/plain": [
       "Empty DataFrame\n",
       "Columns: [Message, Sentiment]\n",
       "Index: []"
      ]
     },
     "execution_count": 12,
     "metadata": {},
     "output_type": "execute_result"
    }
   ],
   "source": [
    "df[df['Message'].isna()]"
   ]
  },
  {
   "cell_type": "code",
   "execution_count": 13,
   "id": "6ac3229f-eb74-48c9-9c67-f0fc1bd02017",
   "metadata": {},
   "outputs": [],
   "source": [
    "# removing @mentions\n",
    "df['Message'] = df['Message'].apply(lambda msg: np.nan if '@' in msg else msg)\n",
    "count = len(df.iloc[:idx + 1][df.iloc[:idx+1]['Message'].isna()])\n",
    "idx -= count"
   ]
  },
  {
   "cell_type": "code",
   "execution_count": 14,
   "id": "dd44f411-2a49-4474-82ab-05bb7586cd94",
   "metadata": {},
   "outputs": [],
   "source": [
    "df.dropna(inplace=True)"
   ]
  },
  {
   "cell_type": "code",
   "execution_count": 15,
   "id": "107558eb-73da-41e4-8427-e04f1cfadfe2",
   "metadata": {},
   "outputs": [
    {
     "data": {
      "text/plain": [
       "Message      sorry for taking over twitter with my i-can`t-...\n",
       "Sentiment                                                    1\n",
       "Name: 19520, dtype: object"
      ]
     },
     "execution_count": 15,
     "metadata": {},
     "output_type": "execute_result"
    }
   ],
   "source": [
    "df.iloc[idx]"
   ]
  },
  {
   "cell_type": "code",
   "execution_count": 16,
   "id": "f0cc2c83-63d4-45fb-957c-bcdf7aeb948b",
   "metadata": {},
   "outputs": [
    {
     "data": {
      "text/html": [
       "<div>\n",
       "<style scoped>\n",
       "    .dataframe tbody tr th:only-of-type {\n",
       "        vertical-align: middle;\n",
       "    }\n",
       "\n",
       "    .dataframe tbody tr th {\n",
       "        vertical-align: top;\n",
       "    }\n",
       "\n",
       "    .dataframe thead th {\n",
       "        text-align: right;\n",
       "    }\n",
       "</style>\n",
       "<table border=\"1\" class=\"dataframe\">\n",
       "  <thead>\n",
       "    <tr style=\"text-align: right;\">\n",
       "      <th></th>\n",
       "      <th>Message</th>\n",
       "      <th>Sentiment</th>\n",
       "    </tr>\n",
       "  </thead>\n",
       "  <tbody>\n",
       "  </tbody>\n",
       "</table>\n",
       "</div>"
      ],
      "text/plain": [
       "Empty DataFrame\n",
       "Columns: [Message, Sentiment]\n",
       "Index: []"
      ]
     },
     "execution_count": 16,
     "metadata": {},
     "output_type": "execute_result"
    }
   ],
   "source": [
    "df[df['Message'].isna()]"
   ]
  },
  {
   "cell_type": "code",
   "execution_count": 17,
   "id": "68296529-5522-47b3-b200-852d3863c405",
   "metadata": {},
   "outputs": [],
   "source": [
    "# removing # tags\n",
    "df['Message'] = df['Message'].apply(lambda msg: np.nan if '#' in msg else msg)\n",
    "count = len(df.iloc[:idx + 1][df.iloc[:idx+1]['Message'].isna()])\n",
    "idx -= count"
   ]
  },
  {
   "cell_type": "code",
   "execution_count": 18,
   "id": "b5f21ab8-cc3d-4876-a8e4-1c60d443ec2d",
   "metadata": {},
   "outputs": [],
   "source": [
    "df.dropna(inplace=True)"
   ]
  },
  {
   "cell_type": "code",
   "execution_count": 19,
   "id": "48ac8b56-4196-4cd8-849d-93e768e73113",
   "metadata": {},
   "outputs": [
    {
     "data": {
      "text/plain": [
       "Message      sorry for taking over twitter with my i-can`t-...\n",
       "Sentiment                                                    1\n",
       "Name: 19520, dtype: object"
      ]
     },
     "execution_count": 19,
     "metadata": {},
     "output_type": "execute_result"
    }
   ],
   "source": [
    "df.iloc[idx]"
   ]
  },
  {
   "cell_type": "code",
   "execution_count": 20,
   "id": "0f8e6e5d-117b-42ef-9193-2a009845459d",
   "metadata": {},
   "outputs": [
    {
     "data": {
      "text/html": [
       "<div>\n",
       "<style scoped>\n",
       "    .dataframe tbody tr th:only-of-type {\n",
       "        vertical-align: middle;\n",
       "    }\n",
       "\n",
       "    .dataframe tbody tr th {\n",
       "        vertical-align: top;\n",
       "    }\n",
       "\n",
       "    .dataframe thead th {\n",
       "        text-align: right;\n",
       "    }\n",
       "</style>\n",
       "<table border=\"1\" class=\"dataframe\">\n",
       "  <thead>\n",
       "    <tr style=\"text-align: right;\">\n",
       "      <th></th>\n",
       "      <th>Message</th>\n",
       "      <th>Sentiment</th>\n",
       "    </tr>\n",
       "  </thead>\n",
       "  <tbody>\n",
       "  </tbody>\n",
       "</table>\n",
       "</div>"
      ],
      "text/plain": [
       "Empty DataFrame\n",
       "Columns: [Message, Sentiment]\n",
       "Index: []"
      ]
     },
     "execution_count": 20,
     "metadata": {},
     "output_type": "execute_result"
    }
   ],
   "source": [
    "df[df['Message'].isna()]"
   ]
  },
  {
   "cell_type": "code",
   "execution_count": 21,
   "id": "a03fbba2-3cee-4a0e-86b0-d8fa4b57a759",
   "metadata": {},
   "outputs": [],
   "source": [
    "count = len(df.iloc[:idx+1][df.iloc[:idx + 1]['Message'].apply(check_english).isna()])\n",
    "idx -= count\n",
    "df['Message'] = df['Message'].apply(check_english)"
   ]
  },
  {
   "cell_type": "code",
   "execution_count": 22,
   "id": "b1fed169-ef24-4ccd-9363-d7a35dab1c17",
   "metadata": {},
   "outputs": [],
   "source": [
    "df.dropna(inplace=True)"
   ]
  },
  {
   "cell_type": "code",
   "execution_count": 23,
   "id": "f21b181b-4188-4c9f-a019-94add11e84b2",
   "metadata": {},
   "outputs": [
    {
     "data": {
      "text/plain": [
       "Message      sorry for taking over twitter with my icantsle...\n",
       "Sentiment                                                    1\n",
       "Name: 19520, dtype: object"
      ]
     },
     "execution_count": 23,
     "metadata": {},
     "output_type": "execute_result"
    }
   ],
   "source": [
    "df.iloc[idx]"
   ]
  },
  {
   "cell_type": "code",
   "execution_count": 24,
   "id": "ddb1eda8-e92c-4825-a789-ed4c046e542e",
   "metadata": {},
   "outputs": [
    {
     "data": {
      "text/html": [
       "<div>\n",
       "<style scoped>\n",
       "    .dataframe tbody tr th:only-of-type {\n",
       "        vertical-align: middle;\n",
       "    }\n",
       "\n",
       "    .dataframe tbody tr th {\n",
       "        vertical-align: top;\n",
       "    }\n",
       "\n",
       "    .dataframe thead th {\n",
       "        text-align: right;\n",
       "    }\n",
       "</style>\n",
       "<table border=\"1\" class=\"dataframe\">\n",
       "  <thead>\n",
       "    <tr style=\"text-align: right;\">\n",
       "      <th></th>\n",
       "      <th>Message</th>\n",
       "      <th>Sentiment</th>\n",
       "    </tr>\n",
       "  </thead>\n",
       "  <tbody>\n",
       "  </tbody>\n",
       "</table>\n",
       "</div>"
      ],
      "text/plain": [
       "Empty DataFrame\n",
       "Columns: [Message, Sentiment]\n",
       "Index: []"
      ]
     },
     "execution_count": 24,
     "metadata": {},
     "output_type": "execute_result"
    }
   ],
   "source": [
    "df[df['Message'].isna()]"
   ]
  },
  {
   "cell_type": "code",
   "execution_count": 25,
   "id": "d54d9604-0573-4fd2-9c4c-4d2ab26129c9",
   "metadata": {},
   "outputs": [],
   "source": [
    "df.reset_index(drop=True, inplace=True)"
   ]
  },
  {
   "cell_type": "code",
   "execution_count": 26,
   "id": "8b7f4f75-f359-453f-8f0c-d46e3788a511",
   "metadata": {},
   "outputs": [],
   "source": [
    "df['Message'] = df['Message'].apply(lambda msg: np.nan if 'htt' in msg else msg)\n",
    "count = len(df.iloc[:idx + 1][df.iloc[:idx+1]['Message'].isna()])\n",
    "idx -= count"
   ]
  },
  {
   "cell_type": "code",
   "execution_count": 27,
   "id": "9880fc31-5ef9-44da-8774-8251584a1ed3",
   "metadata": {},
   "outputs": [],
   "source": [
    "df.dropna(inplace=True)"
   ]
  },
  {
   "cell_type": "code",
   "execution_count": 28,
   "id": "b7b9d963-ca94-4361-9b53-d0db4670fb67",
   "metadata": {},
   "outputs": [
    {
     "data": {
      "text/html": [
       "<div>\n",
       "<style scoped>\n",
       "    .dataframe tbody tr th:only-of-type {\n",
       "        vertical-align: middle;\n",
       "    }\n",
       "\n",
       "    .dataframe tbody tr th {\n",
       "        vertical-align: top;\n",
       "    }\n",
       "\n",
       "    .dataframe thead th {\n",
       "        text-align: right;\n",
       "    }\n",
       "</style>\n",
       "<table border=\"1\" class=\"dataframe\">\n",
       "  <thead>\n",
       "    <tr style=\"text-align: right;\">\n",
       "      <th></th>\n",
       "      <th>Message</th>\n",
       "      <th>Sentiment</th>\n",
       "    </tr>\n",
       "  </thead>\n",
       "  <tbody>\n",
       "  </tbody>\n",
       "</table>\n",
       "</div>"
      ],
      "text/plain": [
       "Empty DataFrame\n",
       "Columns: [Message, Sentiment]\n",
       "Index: []"
      ]
     },
     "execution_count": 28,
     "metadata": {},
     "output_type": "execute_result"
    }
   ],
   "source": [
    "df[df['Message'].isna()]"
   ]
  },
  {
   "cell_type": "code",
   "execution_count": 29,
   "id": "e116f61c-a6f1-410b-b5fb-24dc73109675",
   "metadata": {},
   "outputs": [
    {
     "data": {
      "text/plain": [
       "Message      sorry for taking over twitter with my icantsle...\n",
       "Sentiment                                                    1\n",
       "Name: 18969, dtype: object"
      ]
     },
     "execution_count": 29,
     "metadata": {},
     "output_type": "execute_result"
    }
   ],
   "source": [
    "df.iloc[idx]"
   ]
  },
  {
   "cell_type": "code",
   "execution_count": 30,
   "id": "acc0c587-a491-40bf-b3e1-a78993803497",
   "metadata": {},
   "outputs": [
    {
     "name": "stdout",
     "output_type": "stream",
     "text": [
      "<class 'pandas.core.frame.DataFrame'>\n",
      "Index: 18267 entries, 0 to 18969\n",
      "Data columns (total 2 columns):\n",
      " #   Column     Non-Null Count  Dtype \n",
      "---  ------     --------------  ----- \n",
      " 0   Message    18267 non-null  object\n",
      " 1   Sentiment  18267 non-null  int64 \n",
      "dtypes: int64(1), object(1)\n",
      "memory usage: 428.1+ KB\n"
     ]
    }
   ],
   "source": [
    "df.info()"
   ]
  },
  {
   "cell_type": "code",
   "execution_count": 31,
   "id": "c7c22912-3666-41a0-ac41-2d97394dec6d",
   "metadata": {},
   "outputs": [],
   "source": [
    "# empjis\n",
    "# punctuations\n",
    "# lowercase\n",
    "# stopwords -> such as \"and, but, or in\" are removed which do not help in training \n",
    "# stemming -> running, runs are same words so converted into run as base form"
   ]
  },
  {
   "cell_type": "code",
   "execution_count": 32,
   "id": "10b7077e-5d7e-4dfc-8b61-bf3c031ff716",
   "metadata": {},
   "outputs": [],
   "source": [
    "from nltk.stem.snowball import SnowballStemmer\n",
    "from nltk.corpus import stopwords\n",
    "stemmer = SnowballStemmer(\"english\")\n",
    "def extreme_clean(msg):\n",
    "    new_msg = ''\n",
    "    for word in msg.split():\n",
    "        new_msg = new_msg + ' ' + stemmer.stem(word)\n",
    "    msg = new_msg\n",
    "    nopunc = [char for char in msg if char.lower() not in string.punctuation]\n",
    "    nopunc = ''.join(nopunc)\n",
    "    # convert to lower case. \n",
    "    return [word for word in nopunc.split() if word.lower() not in stopwords.words('english')]"
   ]
  },
  {
   "cell_type": "code",
   "execution_count": 33,
   "id": "6467533c-6c8e-414c-9373-ffec6aaf53dd",
   "metadata": {},
   "outputs": [],
   "source": [
    "test_msg = df.iloc[0]['Message']"
   ]
  },
  {
   "cell_type": "code",
   "execution_count": 34,
   "id": "1ae699d5-3faf-41ad-9649-8d62bb98f28d",
   "metadata": {},
   "outputs": [
    {
     "data": {
      "text/plain": [
       "'love comment flashcad im old school'"
      ]
     },
     "execution_count": 34,
     "metadata": {},
     "output_type": "execute_result"
    }
   ],
   "source": [
    "' '.join(extreme_clean(test_msg))"
   ]
  },
  {
   "cell_type": "code",
   "execution_count": 35,
   "id": "f64917a4-9466-4df2-b453-171250054001",
   "metadata": {},
   "outputs": [
    {
     "data": {
      "text/plain": [
       "' Loved the comment on flashcads Im old school too'"
      ]
     },
     "execution_count": 35,
     "metadata": {},
     "output_type": "execute_result"
    }
   ],
   "source": [
    "test_msg"
   ]
  },
  {
   "cell_type": "code",
   "execution_count": 36,
   "id": "bf6bd2b3-358c-4bce-80f0-21f77832a8ff",
   "metadata": {},
   "outputs": [
    {
     "data": {
      "text/plain": [
       "Message      sorry for taking over twitter with my icantsle...\n",
       "Sentiment                                                    1\n",
       "Name: 18969, dtype: object"
      ]
     },
     "execution_count": 36,
     "metadata": {},
     "output_type": "execute_result"
    }
   ],
   "source": [
    "df.iloc[idx] # last message that was labbeled"
   ]
  },
  {
   "cell_type": "markdown",
   "id": "e2c36276-e860-4be2-a605-940f92aa8d49",
   "metadata": {},
   "source": [
    "# Final analyzer results. \n",
    "# This input will be given to CountVectorizer, then to TfIdfTransformer and then to KNeighboursClassifier"
   ]
  },
  {
   "cell_type": "code",
   "execution_count": 37,
   "id": "1622331a-f509-4cd8-8d09-ff2ac80a4267",
   "metadata": {},
   "outputs": [],
   "source": [
    "# analyzed_messages = df['Message'].apply(extreme_clean)\n",
    "# for msg in analyzed_messages:\n",
    "#     print(msg)"
   ]
  },
  {
   "cell_type": "markdown",
   "id": "b64055c8-96d9-4911-8f94-46661b6f3b0b",
   "metadata": {},
   "source": [
    "# Testing different K values"
   ]
  },
  {
   "cell_type": "code",
   "execution_count": 38,
   "id": "27016a5d-62b7-401d-88d5-e7c5946ee17f",
   "metadata": {},
   "outputs": [],
   "source": [
    "from sklearn.metrics import precision_score, recall_score, f1_score\n",
    "from sklearn.neighbors import KNeighborsClassifier\n",
    "from sklearn.model_selection import train_test_split\n",
    "from sklearn.metrics import classification_report, confusion_matrix\n",
    "from sklearn.feature_extraction.text import CountVectorizer, TfidfTransformer\n",
    "from sklearn.pipeline import Pipeline\n",
    "def get_best_K(X_train_transformed, x_test_transformed, y_train, y_test):\n",
    "    error = []\n",
    "    \n",
    "    for i in range(1, 30):\n",
    "        knn = KNeighborsClassifier(n_neighbors=i)\n",
    "        knn.fit(X_train_transformed, y_train)\n",
    "        pred_i = knn.predict(x_test_transformed)\n",
    "        error.append(np.mean(pred_i != y_test))\n",
    "    return error\n",
    "\n",
    "def plot_K(error):\n",
    "    import matplotlib.pyplot as plt\n",
    "    plt.figure(figsize=(10,6))\n",
    "    plt.plot(range(1,30),error,color='blue', linestyle='dashed', marker='o',\n",
    "             markerfacecolor='red', markersize=10)\n",
    "    plt.title('Error Rate vs. K Value')\n",
    "    plt.xlabel('K')\n",
    "    plt.ylabel('Error Rate')"
   ]
  },
  {
   "cell_type": "code",
   "execution_count": 39,
   "id": "1db7efdf-551d-4c33-9dd0-40a769cb2cb5",
   "metadata": {},
   "outputs": [],
   "source": [
    "df['text'] = df['Message'].apply(extreme_clean)"
   ]
  },
  {
   "cell_type": "code",
   "execution_count": 40,
   "id": "6f476173-1494-4f17-b380-8f053de71cc8",
   "metadata": {},
   "outputs": [],
   "source": [
    "# Define a dictionary of chat word mappings\n",
    "chat_words = {\n",
    "    \"AFAIK\": \"As Far As I Know\",\n",
    "    \"AFK\": \"Away From Keyboard\",\n",
    "    \"ASAP\": \"As Soon As Possible\",\n",
    "    \"ATK\": \"At The Keyboard\",\n",
    "    \"ATM\": \"At The Moment\",\n",
    "    \"A3\": \"Anytime, Anywhere, Anyplace\",\n",
    "    \"BAK\": \"Back At Keyboard\",\n",
    "    \"BBL\": \"Be Back Later\",\n",
    "    \"BBS\": \"Be Back Soon\",\n",
    "    \"BFN\": \"Bye For Now\",\n",
    "    \"B4N\": \"Bye For Now\",\n",
    "    \"BRB\": \"Be Right Back\",\n",
    "    \"BRT\": \"Be Right There\",\n",
    "    \"BTW\": \"By The Way\",\n",
    "    \"B4\": \"Before\",\n",
    "    \"B4N\": \"Bye For Now\",\n",
    "    \"CU\": \"See You\",\n",
    "    \"CUL8R\": \"See You Later\",\n",
    "    \"CYA\": \"See You\",\n",
    "    \"FAQ\": \"Frequently Asked Questions\",\n",
    "    \"FC\": \"Fingers Crossed\",\n",
    "    \"FWIW\": \"For What It's Worth\",\n",
    "    \"FYI\": \"For Your Information\",\n",
    "    \"GAL\": \"Get A Life\",\n",
    "    \"GG\": \"Good Game\",\n",
    "    \"GN\": \"Good Night\",\n",
    "    \"GMTA\": \"Great Minds Think Alike\",\n",
    "    \"GR8\": \"Great!\",\n",
    "    \"G9\": \"Genius\",\n",
    "    \"IC\": \"I See\",\n",
    "    \"ICQ\": \"I Seek you (also a chat program)\",\n",
    "    \"ILU\": \"ILU: I Love You\",\n",
    "    \"IMHO\": \"In My Honest/Humble Opinion\",\n",
    "    \"IMO\": \"In My Opinion\",\n",
    "    \"IOW\": \"In Other Words\",\n",
    "    \"IRL\": \"In Real Life\",\n",
    "    \"KISS\": \"Keep It Simple, Stupid\",\n",
    "    \"LDR\": \"Long Distance Relationship\",\n",
    "    \"LMAO\": \"Laugh My A.. Off\",\n",
    "    \"LOL\": \"Laughing Out Loud\",\n",
    "    \"LTNS\": \"Long Time No See\",\n",
    "    \"L8R\": \"Later\",\n",
    "    \"MTE\": \"My Thoughts Exactly\",\n",
    "    \"M8\": \"Mate\",\n",
    "    \"NRN\": \"No Reply Necessary\",\n",
    "    \"OIC\": \"Oh I See\",\n",
    "    \"PITA\": \"Pain In The A..\",\n",
    "    \"PRT\": \"Party\",\n",
    "    \"PRW\": \"Parents Are Watching\",\n",
    "    \"QPSA?\": \"Que Pasa?\",\n",
    "    \"ROFL\": \"Rolling On The Floor Laughing\",\n",
    "    \"ROFLOL\": \"Rolling On The Floor Laughing Out Loud\",\n",
    "    \"ROTFLMAO\": \"Rolling On The Floor Laughing My A.. Off\",\n",
    "    \"SK8\": \"Skate\",\n",
    "    \"STATS\": \"Your sex and age\",\n",
    "    \"ASL\": \"Age, Sex, Location\",\n",
    "    \"THX\": \"Thank You\",\n",
    "    \"TTFN\": \"Ta-Ta For Now!\",\n",
    "    \"TTYL\": \"Talk To You Later\",\n",
    "    \"U\": \"You\",\n",
    "    \"U2\": \"You Too\",\n",
    "    \"U4E\": \"Yours For Ever\",\n",
    "    \"WB\": \"Welcome Back\",\n",
    "    \"WTF\": \"What The F...\",\n",
    "    \"WTG\": \"Way To Go!\",\n",
    "    \"WUF\": \"Where Are You From?\",\n",
    "    \"W8\": \"Wait...\",\n",
    "    \"7K\": \"Sick:-D Laugher\",\n",
    "    \"TFW\": \"That feeling when\",\n",
    "    \"MFW\": \"My face when\",\n",
    "    \"MRW\": \"My reaction when\",\n",
    "    \"IFYP\": \"I feel your pain\",\n",
    "    \"TNTL\": \"Trying not to laugh\",\n",
    "    \"JK\": \"Just kidding\",\n",
    "    \"IDC\": \"I don't care\",\n",
    "    \"ILY\": \"I love you\",\n",
    "    \"IMU\": \"I miss you\",\n",
    "    \"ADIH\": \"Another day in hell\",\n",
    "    \"ZZZ\": \"Sleeping, bored, tired\",\n",
    "    \"WYWH\": \"Wish you were here\",\n",
    "    \"TIME\": \"Tears in my eyes\",\n",
    "    \"BAE\": \"Before anyone else\",\n",
    "    \"FIMH\": \"Forever in my heart\",\n",
    "    \"BSAAW\": \"Big smile and a wink\",\n",
    "    \"BWL\": \"Bursting with laughter\",\n",
    "    \"BFF\": \"Best friends forever\",\n",
    "    \"CSL\": \"Can't stop laughing\"\n",
    "}"
   ]
  },
  {
   "cell_type": "code",
   "execution_count": 41,
   "id": "197402b9-ae2f-45bd-a750-389463ec9532",
   "metadata": {},
   "outputs": [],
   "source": [
    "def replace_chat_words(text):\n",
    "    words = text.split()\n",
    "    for i, word in enumerate(words):\n",
    "        if word.lower() in chat_words:\n",
    "            words[i] = chat_words[word.lower()]\n",
    "    return ' '.join(words)\n",
    "\n",
    "# Apply replace_chat_words function to 'Text' column\n",
    "df['text'] = df['Message'].apply(replace_chat_words)"
   ]
  },
  {
   "cell_type": "code",
   "execution_count": 42,
   "id": "0015d59b-dc7e-4dce-90a3-7a1d663e676a",
   "metadata": {},
   "outputs": [
    {
     "data": {
      "text/html": [
       "<div>\n",
       "<style scoped>\n",
       "    .dataframe tbody tr th:only-of-type {\n",
       "        vertical-align: middle;\n",
       "    }\n",
       "\n",
       "    .dataframe tbody tr th {\n",
       "        vertical-align: top;\n",
       "    }\n",
       "\n",
       "    .dataframe thead th {\n",
       "        text-align: right;\n",
       "    }\n",
       "</style>\n",
       "<table border=\"1\" class=\"dataframe\">\n",
       "  <thead>\n",
       "    <tr style=\"text-align: right;\">\n",
       "      <th></th>\n",
       "      <th>Message</th>\n",
       "      <th>Sentiment</th>\n",
       "      <th>text</th>\n",
       "    </tr>\n",
       "  </thead>\n",
       "  <tbody>\n",
       "    <tr>\n",
       "      <th>0</th>\n",
       "      <td>Loved the comment on flashcads Im old school too</td>\n",
       "      <td>0</td>\n",
       "      <td>Loved the comment on flashcads Im old school too</td>\n",
       "    </tr>\n",
       "    <tr>\n",
       "      <th>1</th>\n",
       "      <td>mine too</td>\n",
       "      <td>0</td>\n",
       "      <td>mine too</td>\n",
       "    </tr>\n",
       "    <tr>\n",
       "      <th>2</th>\n",
       "      <td>Thinks that my friends lifes go around with wh...</td>\n",
       "      <td>1</td>\n",
       "      <td>Thinks that my friends lifes go around with wh...</td>\n",
       "    </tr>\n",
       "    <tr>\n",
       "      <th>3</th>\n",
       "      <td>Helloooo  Star Wars day is cool  LOOL Wen do ...</td>\n",
       "      <td>0</td>\n",
       "      <td>Helloooo Star Wars day is cool LOOL Wen do you...</td>\n",
       "    </tr>\n",
       "    <tr>\n",
       "      <th>4</th>\n",
       "      <td>tamlyn wishes she was as cool as my sock draw</td>\n",
       "      <td>0</td>\n",
       "      <td>tamlyn wishes she was as cool as my sock draw</td>\n",
       "    </tr>\n",
       "  </tbody>\n",
       "</table>\n",
       "</div>"
      ],
      "text/plain": [
       "                                             Message  Sentiment  \\\n",
       "0   Loved the comment on flashcads Im old school too          0   \n",
       "1                                          mine too           0   \n",
       "2  Thinks that my friends lifes go around with wh...          1   \n",
       "3   Helloooo  Star Wars day is cool  LOOL Wen do ...          0   \n",
       "4      tamlyn wishes she was as cool as my sock draw          0   \n",
       "\n",
       "                                                text  \n",
       "0   Loved the comment on flashcads Im old school too  \n",
       "1                                           mine too  \n",
       "2  Thinks that my friends lifes go around with wh...  \n",
       "3  Helloooo Star Wars day is cool LOOL Wen do you...  \n",
       "4      tamlyn wishes she was as cool as my sock draw  "
      ]
     },
     "execution_count": 42,
     "metadata": {},
     "output_type": "execute_result"
    }
   ],
   "source": [
    "df.head()"
   ]
  },
  {
   "cell_type": "code",
   "execution_count": 43,
   "id": "c696768f-e4b4-4a76-bed5-5b0e349b5e2b",
   "metadata": {},
   "outputs": [],
   "source": [
    "import re\n",
    "df['text'] = df['text'].apply(lambda x: re.sub(r'[^a-zA-Z\\s]', '', x))"
   ]
  },
  {
   "cell_type": "code",
   "execution_count": 44,
   "id": "55dd2cec-dea8-4316-b0fd-e5b39a07c23d",
   "metadata": {},
   "outputs": [],
   "source": [
    "stop = stopwords.words('english')\n",
    "df[\"text\"] = df['text'].apply(lambda x: ' '.join([word for word in x.split() if word not in (stop)]))"
   ]
  },
  {
   "cell_type": "code",
   "execution_count": 45,
   "id": "7e461aad-06c5-47d5-88ee-6c49e9ae69be",
   "metadata": {},
   "outputs": [],
   "source": [
    "df['text'] = df['text'].str.lower()"
   ]
  },
  {
   "cell_type": "code",
   "execution_count": 46,
   "id": "686255cb-955e-41b6-9900-8249e7b3d2d8",
   "metadata": {},
   "outputs": [],
   "source": [
    "df['text'] = df['text'].str.replace(r'\\d+', '', regex=True)"
   ]
  },
  {
   "cell_type": "code",
   "execution_count": 47,
   "id": "64695204-1bea-417e-8722-bf6bb4c40b81",
   "metadata": {},
   "outputs": [],
   "source": [
    "df['text'] = df['text'].str.replace(r'\\s+', ' ', regex=True)"
   ]
  },
  {
   "cell_type": "code",
   "execution_count": 48,
   "id": "b89b4786-ce9b-4447-873e-10d11c0756d8",
   "metadata": {},
   "outputs": [],
   "source": [
    "df['text'] = df['text'].str.replace(r'[^\\w\\s]', '', regex=True)"
   ]
  },
  {
   "cell_type": "code",
   "execution_count": 49,
   "id": "4f9c6204-21c8-435f-878e-5ae9d3e2f65d",
   "metadata": {},
   "outputs": [],
   "source": [
    "df['text'] = df['text'].str.replace(r'http\\S+', '', regex=True)"
   ]
  },
  {
   "cell_type": "code",
   "execution_count": 50,
   "id": "2adc0394-4ae6-450d-87d7-45e499727679",
   "metadata": {},
   "outputs": [
    {
     "data": {
      "text/html": [
       "<div>\n",
       "<style scoped>\n",
       "    .dataframe tbody tr th:only-of-type {\n",
       "        vertical-align: middle;\n",
       "    }\n",
       "\n",
       "    .dataframe tbody tr th {\n",
       "        vertical-align: top;\n",
       "    }\n",
       "\n",
       "    .dataframe thead th {\n",
       "        text-align: right;\n",
       "    }\n",
       "</style>\n",
       "<table border=\"1\" class=\"dataframe\">\n",
       "  <thead>\n",
       "    <tr style=\"text-align: right;\">\n",
       "      <th></th>\n",
       "      <th>Message</th>\n",
       "      <th>Sentiment</th>\n",
       "      <th>text</th>\n",
       "    </tr>\n",
       "  </thead>\n",
       "  <tbody>\n",
       "    <tr>\n",
       "      <th>0</th>\n",
       "      <td>Loved the comment on flashcads Im old school too</td>\n",
       "      <td>0</td>\n",
       "      <td>loved comment flashcads im old school</td>\n",
       "    </tr>\n",
       "    <tr>\n",
       "      <th>1</th>\n",
       "      <td>mine too</td>\n",
       "      <td>0</td>\n",
       "      <td>mine</td>\n",
       "    </tr>\n",
       "    <tr>\n",
       "      <th>2</th>\n",
       "      <td>Thinks that my friends lifes go around with wh...</td>\n",
       "      <td>1</td>\n",
       "      <td>thinks friends lifes go around boyfriends time...</td>\n",
       "    </tr>\n",
       "    <tr>\n",
       "      <th>3</th>\n",
       "      <td>Helloooo  Star Wars day is cool  LOOL Wen do ...</td>\n",
       "      <td>0</td>\n",
       "      <td>helloooo star wars day cool lool wen go cnater...</td>\n",
       "    </tr>\n",
       "    <tr>\n",
       "      <th>4</th>\n",
       "      <td>tamlyn wishes she was as cool as my sock draw</td>\n",
       "      <td>0</td>\n",
       "      <td>tamlyn wishes cool sock draw</td>\n",
       "    </tr>\n",
       "  </tbody>\n",
       "</table>\n",
       "</div>"
      ],
      "text/plain": [
       "                                             Message  Sentiment  \\\n",
       "0   Loved the comment on flashcads Im old school too          0   \n",
       "1                                          mine too           0   \n",
       "2  Thinks that my friends lifes go around with wh...          1   \n",
       "3   Helloooo  Star Wars day is cool  LOOL Wen do ...          0   \n",
       "4      tamlyn wishes she was as cool as my sock draw          0   \n",
       "\n",
       "                                                text  \n",
       "0              loved comment flashcads im old school  \n",
       "1                                               mine  \n",
       "2  thinks friends lifes go around boyfriends time...  \n",
       "3  helloooo star wars day cool lool wen go cnater...  \n",
       "4                       tamlyn wishes cool sock draw  "
      ]
     },
     "execution_count": 50,
     "metadata": {},
     "output_type": "execute_result"
    }
   ],
   "source": [
    "df.head()"
   ]
  },
  {
   "cell_type": "markdown",
   "id": "9a23b3b7-3c90-4461-872a-eb16db87970c",
   "metadata": {},
   "source": [
    "# SVC"
   ]
  },
  {
   "cell_type": "code",
   "execution_count": 57,
   "id": "74905419-ae8d-4c79-825b-2e63ae990684",
   "metadata": {},
   "outputs": [
    {
     "name": "stdout",
     "output_type": "stream",
     "text": [
      "Fitting 5 folds for each of 12 candidates, totalling 60 fits\n",
      "[CV 1/5] END ..................C=0.1, gamma=0.1;, score=0.571 total time=  11.5s\n",
      "[CV 2/5] END ..................C=0.1, gamma=0.1;, score=0.587 total time=  11.3s\n",
      "[CV 3/5] END ..................C=0.1, gamma=0.1;, score=0.585 total time=  11.6s\n",
      "[CV 4/5] END ..................C=0.1, gamma=0.1;, score=0.582 total time=  12.6s\n",
      "[CV 5/5] END ..................C=0.1, gamma=0.1;, score=0.583 total time=  11.5s\n",
      "[CV 1/5] END .................C=0.1, gamma=0.01;, score=0.524 total time=  11.4s\n",
      "[CV 2/5] END .................C=0.1, gamma=0.01;, score=0.524 total time=  11.3s\n",
      "[CV 3/5] END .................C=0.1, gamma=0.01;, score=0.524 total time=  12.0s\n",
      "[CV 4/5] END .................C=0.1, gamma=0.01;, score=0.524 total time=  11.9s\n",
      "[CV 5/5] END .................C=0.1, gamma=0.01;, score=0.524 total time=  11.2s\n",
      "[CV 1/5] END ................C=0.1, gamma=0.001;, score=0.524 total time=  11.2s\n",
      "[CV 2/5] END ................C=0.1, gamma=0.001;, score=0.524 total time=  11.4s\n",
      "[CV 3/5] END ................C=0.1, gamma=0.001;, score=0.524 total time=  11.2s\n",
      "[CV 4/5] END ................C=0.1, gamma=0.001;, score=0.524 total time=  11.0s\n",
      "[CV 5/5] END ................C=0.1, gamma=0.001;, score=0.524 total time=  12.9s\n",
      "[CV 1/5] END ..................C=1.0, gamma=0.1;, score=0.841 total time=  10.0s\n",
      "[CV 2/5] END ..................C=1.0, gamma=0.1;, score=0.846 total time=   9.1s\n",
      "[CV 3/5] END ..................C=1.0, gamma=0.1;, score=0.817 total time=   9.3s\n",
      "[CV 4/5] END ..................C=1.0, gamma=0.1;, score=0.838 total time=   9.4s\n",
      "[CV 5/5] END ..................C=1.0, gamma=0.1;, score=0.848 total time=   9.2s\n",
      "[CV 1/5] END .................C=1.0, gamma=0.01;, score=0.624 total time=  12.0s\n",
      "[CV 2/5] END .................C=1.0, gamma=0.01;, score=0.648 total time=  11.4s\n",
      "[CV 3/5] END .................C=1.0, gamma=0.01;, score=0.647 total time=  11.8s\n",
      "[CV 4/5] END .................C=1.0, gamma=0.01;, score=0.643 total time=  11.5s\n",
      "[CV 5/5] END .................C=1.0, gamma=0.01;, score=0.639 total time=  11.2s\n",
      "[CV 1/5] END ................C=1.0, gamma=0.001;, score=0.524 total time=  12.0s\n",
      "[CV 2/5] END ................C=1.0, gamma=0.001;, score=0.524 total time=  12.2s\n",
      "[CV 3/5] END ................C=1.0, gamma=0.001;, score=0.524 total time=  14.3s\n",
      "[CV 4/5] END ................C=1.0, gamma=0.001;, score=0.524 total time=  12.1s\n",
      "[CV 5/5] END ................C=1.0, gamma=0.001;, score=0.524 total time=  13.2s\n",
      "[CV 1/5] END ...................C=10, gamma=0.1;, score=0.844 total time=  10.4s\n",
      "[CV 2/5] END ...................C=10, gamma=0.1;, score=0.853 total time=   8.7s\n",
      "[CV 3/5] END ...................C=10, gamma=0.1;, score=0.842 total time=   8.2s\n",
      "[CV 4/5] END ...................C=10, gamma=0.1;, score=0.840 total time=   8.4s\n",
      "[CV 5/5] END ...................C=10, gamma=0.1;, score=0.853 total time=   8.5s\n",
      "[CV 1/5] END ..................C=10, gamma=0.01;, score=0.844 total time=   8.9s\n",
      "[CV 2/5] END ..................C=10, gamma=0.01;, score=0.849 total time=   9.5s\n",
      "[CV 3/5] END ..................C=10, gamma=0.01;, score=0.817 total time=   8.8s\n",
      "[CV 4/5] END ..................C=10, gamma=0.01;, score=0.841 total time=   8.9s\n",
      "[CV 5/5] END ..................C=10, gamma=0.01;, score=0.853 total time=   8.9s\n",
      "[CV 1/5] END .................C=10, gamma=0.001;, score=0.632 total time=  11.1s\n",
      "[CV 2/5] END .................C=10, gamma=0.001;, score=0.656 total time=  11.0s\n",
      "[CV 3/5] END .................C=10, gamma=0.001;, score=0.657 total time=  11.9s\n",
      "[CV 4/5] END .................C=10, gamma=0.001;, score=0.648 total time=  11.2s\n",
      "[CV 5/5] END .................C=10, gamma=0.001;, score=0.645 total time=  12.5s\n",
      "[CV 1/5] END ..................C=100, gamma=0.1;, score=0.820 total time=  16.7s\n",
      "[CV 2/5] END ..................C=100, gamma=0.1;, score=0.826 total time=  17.4s\n",
      "[CV 3/5] END ..................C=100, gamma=0.1;, score=0.827 total time=  16.4s\n",
      "[CV 4/5] END ..................C=100, gamma=0.1;, score=0.826 total time=  15.1s\n",
      "[CV 5/5] END ..................C=100, gamma=0.1;, score=0.837 total time=  16.3s\n",
      "[CV 1/5] END .................C=100, gamma=0.01;, score=0.842 total time=   8.3s\n",
      "[CV 2/5] END .................C=100, gamma=0.01;, score=0.851 total time=   9.1s\n",
      "[CV 3/5] END .................C=100, gamma=0.01;, score=0.839 total time=   8.1s\n",
      "[CV 4/5] END .................C=100, gamma=0.01;, score=0.840 total time=   8.3s\n",
      "[CV 5/5] END .................C=100, gamma=0.01;, score=0.850 total time=   8.0s\n",
      "[CV 1/5] END ................C=100, gamma=0.001;, score=0.845 total time=   9.3s\n",
      "[CV 2/5] END ................C=100, gamma=0.001;, score=0.849 total time=   9.1s\n",
      "[CV 3/5] END ................C=100, gamma=0.001;, score=0.817 total time=   9.4s\n",
      "[CV 4/5] END ................C=100, gamma=0.001;, score=0.840 total time=   8.9s\n",
      "[CV 5/5] END ................C=100, gamma=0.001;, score=0.853 total time=   9.0s\n"
     ]
    }
   ],
   "source": [
    "from sklearn.svm import SVC\n",
    "from sklearn.model_selection import GridSearchCV\n",
    "pipeline = Pipeline([\n",
    "    ('bow', CountVectorizer()),\n",
    "    ('tf-idf', TfidfTransformer()),\n",
    "])\n",
    "\n",
    "X = df['text']# inputs\n",
    "y = df['Sentiment']# labelss\n",
    "X_train, X_test, y_train, y_test = train_test_split(X, y, test_size=0.3, random_state=42)\n",
    "pipeline.fit(X_train,y_train)\n",
    "X_train_transformed = pipeline['tf-idf'].transform(pipeline['bow'].transform(X_train))\n",
    "x_test_transformed = pipeline['tf-idf'].transform(pipeline['bow'].transform(X_test))\n",
    "param_grid = {'C':[0.1,1.0,10,100], 'gamma': [0.1,0.01,0.001]}\n",
    "grid = GridSearchCV(SVC(),param_grid,refit=True,verbose=3)\n",
    "grid.fit(X_train_transformed,y_train)\n",
    "predictions = grid.predict(x_test_transformed)"
   ]
  },
  {
   "cell_type": "code",
   "execution_count": 77,
   "id": "cb41c685-e164-41fe-9304-e52aa2fb545f",
   "metadata": {},
   "outputs": [
    {
     "data": {
      "image/png": "[encoded data removed]",
      "text/plain": [
       "<Figure size 800x600 with 2 Axes>"
      ]
     },
     "metadata": {},
     "output_type": "display_data"
    },
    {
     "name": "stdout",
     "output_type": "stream",
     "text": [
      "              precision    recall  f1-score   support\n",
      "\n",
      "           0       0.86      0.87      0.86      2814\n",
      "           1       0.86      0.85      0.85      2667\n",
      "\n",
      "    accuracy                           0.86      5481\n",
      "   macro avg       0.86      0.86      0.86      5481\n",
      "weighted avg       0.86      0.86      0.86      5481\n",
      "\n"
     ]
    }
   ],
   "source": [
    "cm = confusion_matrix(y_test, predictions)\n",
    "import matplotlib.pyplot as plt\n",
    "import seaborn as sns\n",
    "# Plot confusion matrix with blue color\n",
    "plt.figure(figsize=(8, 6))\n",
    "sns.heatmap(cm, annot=True, fmt='d', cmap='Blues')  # Change 'Reds' to 'Blues' for blue color\n",
    "plt.xlabel('Predicted labels')\n",
    "plt.ylabel('True labels')\n",
    "plt.title('Confusion Matrix')\n",
    "plt.show()\n",
    "print(classification_report(y_test, predictions))"
   ]
  },
  {
   "cell_type": "code",
   "execution_count": 79,
   "id": "0e5a1a08-8720-48ca-82e1-578fb101e238",
   "metadata": {},
   "outputs": [],
   "source": [
    "import pickle"
   ]
  },
  {
   "cell_type": "code",
   "execution_count": 80,
   "id": "5fbe3f22-64f9-4fc7-8dc8-19182fea0978",
   "metadata": {},
   "outputs": [],
   "source": [
    "with open(\"svm.pkl\", 'wb') as f:\n",
    "    pickle.dump(grid, f)"
   ]
  },
  {
   "cell_type": "code",
   "execution_count": null,
   "id": "94d7c2eb-0bff-46f3-99a7-6777d970cca4",
   "metadata": {},
   "outputs": [],
   "source": [
    "with open(\"tf-idf.pkl\", 'wb') as f:\n",
    "    pickle.dump(pipeline['tf-idf'],f)\n",
    "with open(\"bow.pkl\", 'wb') as f:\n",
    "    pickle.dump(pipeline['bow'],f)"
   ]
  },
  {
   "cell_type": "markdown",
   "id": "6daa093d-0dc1-4b87-a7cd-487a3755fa51",
   "metadata": {},
   "source": [
    "# KNN"
   ]
  },
  {
   "cell_type": "code",
   "execution_count": 81,
   "id": "9a806fce-b88b-4f19-8ac5-d8dd5027d7e0",
   "metadata": {},
   "outputs": [
    {
     "name": "stdout",
     "output_type": "stream",
     "text": [
      "Fitting 5 folds for each of 29 candidates, totalling 145 fits\n",
      "[CV 1/5] END .....................n_neighbors=1;, score=0.580 total time=   1.0s\n",
      "[CV 2/5] END .....................n_neighbors=1;, score=0.564 total time=   0.9s\n",
      "[CV 3/5] END .....................n_neighbors=1;, score=0.555 total time=   0.9s\n",
      "[CV 4/5] END .....................n_neighbors=1;, score=0.561 total time=   0.7s\n",
      "[CV 5/5] END .....................n_neighbors=1;, score=0.558 total time=   0.6s\n",
      "[CV 1/5] END .....................n_neighbors=2;, score=0.553 total time=   0.6s\n",
      "[CV 2/5] END .....................n_neighbors=2;, score=0.570 total time=   0.7s\n",
      "[CV 3/5] END .....................n_neighbors=2;, score=0.575 total time=   0.7s\n",
      "[CV 4/5] END .....................n_neighbors=2;, score=0.578 total time=   0.8s\n",
      "[CV 5/5] END .....................n_neighbors=2;, score=0.725 total time=   0.7s\n",
      "[CV 1/5] END .....................n_neighbors=3;, score=0.718 total time=   0.7s\n",
      "[CV 2/5] END .....................n_neighbors=3;, score=0.732 total time=   0.6s\n",
      "[CV 3/5] END .....................n_neighbors=3;, score=0.736 total time=   0.7s\n",
      "[CV 4/5] END .....................n_neighbors=3;, score=0.731 total time=   0.7s\n",
      "[CV 5/5] END .....................n_neighbors=3;, score=0.734 total time=   0.7s\n",
      "[CV 1/5] END .....................n_neighbors=4;, score=0.679 total time=   0.7s\n",
      "[CV 2/5] END .....................n_neighbors=4;, score=0.720 total time=   0.7s\n",
      "[CV 3/5] END .....................n_neighbors=4;, score=0.716 total time=   0.6s\n",
      "[CV 4/5] END .....................n_neighbors=4;, score=0.727 total time=   0.7s\n",
      "[CV 5/5] END .....................n_neighbors=4;, score=0.761 total time=   0.7s\n",
      "[CV 1/5] END .....................n_neighbors=5;, score=0.741 total time=   0.7s\n",
      "[CV 2/5] END .....................n_neighbors=5;, score=0.767 total time=   0.6s\n",
      "[CV 3/5] END .....................n_neighbors=5;, score=0.754 total time=   0.8s\n",
      "[CV 4/5] END .....................n_neighbors=5;, score=0.764 total time=   0.6s\n",
      "[CV 5/5] END .....................n_neighbors=5;, score=0.768 total time=   0.7s\n",
      "[CV 1/5] END .....................n_neighbors=6;, score=0.723 total time=   0.7s\n",
      "[CV 2/5] END .....................n_neighbors=6;, score=0.762 total time=   0.8s\n",
      "[CV 3/5] END .....................n_neighbors=6;, score=0.747 total time=   0.7s\n",
      "[CV 4/5] END .....................n_neighbors=6;, score=0.752 total time=   0.7s\n",
      "[CV 5/5] END .....................n_neighbors=6;, score=0.781 total time=   0.7s\n",
      "[CV 1/5] END .....................n_neighbors=7;, score=0.767 total time=   0.7s\n",
      "[CV 2/5] END .....................n_neighbors=7;, score=0.782 total time=   0.7s\n",
      "[CV 3/5] END .....................n_neighbors=7;, score=0.768 total time=   0.7s\n",
      "[CV 4/5] END .....................n_neighbors=7;, score=0.778 total time=   0.7s\n",
      "[CV 5/5] END .....................n_neighbors=7;, score=0.789 total time=   0.8s\n",
      "[CV 1/5] END .....................n_neighbors=8;, score=0.746 total time=   0.7s\n",
      "[CV 2/5] END .....................n_neighbors=8;, score=0.773 total time=   0.7s\n",
      "[CV 3/5] END .....................n_neighbors=8;, score=0.761 total time=   0.6s\n",
      "[CV 4/5] END .....................n_neighbors=8;, score=0.773 total time=   0.7s\n",
      "[CV 5/5] END .....................n_neighbors=8;, score=0.798 total time=   0.7s\n",
      "[CV 1/5] END .....................n_neighbors=9;, score=0.769 total time=   0.7s\n",
      "[CV 2/5] END .....................n_neighbors=9;, score=0.790 total time=   0.6s\n",
      "[CV 3/5] END .....................n_neighbors=9;, score=0.777 total time=   0.7s\n",
      "[CV 4/5] END .....................n_neighbors=9;, score=0.792 total time=   0.7s\n",
      "[CV 5/5] END .....................n_neighbors=9;, score=0.798 total time=   0.8s\n",
      "[CV 1/5] END ....................n_neighbors=10;, score=0.755 total time=   0.8s\n",
      "[CV 2/5] END ....................n_neighbors=10;, score=0.779 total time=   0.7s\n",
      "[CV 3/5] END ....................n_neighbors=10;, score=0.772 total time=   0.6s\n",
      "[CV 4/5] END ....................n_neighbors=10;, score=0.785 total time=   0.7s\n",
      "[CV 5/5] END ....................n_neighbors=10;, score=0.803 total time=   0.7s\n",
      "[CV 1/5] END ....................n_neighbors=11;, score=0.776 total time=   0.6s\n",
      "[CV 2/5] END ....................n_neighbors=11;, score=0.791 total time=   0.7s\n",
      "[CV 3/5] END ....................n_neighbors=11;, score=0.780 total time=   0.7s\n",
      "[CV 4/5] END ....................n_neighbors=11;, score=0.795 total time=   0.7s\n",
      "[CV 5/5] END ....................n_neighbors=11;, score=0.805 total time=   0.7s\n",
      "[CV 1/5] END ....................n_neighbors=12;, score=0.762 total time=   0.7s\n",
      "[CV 2/5] END ....................n_neighbors=12;, score=0.790 total time=   0.7s\n",
      "[CV 3/5] END ....................n_neighbors=12;, score=0.778 total time=   0.7s\n",
      "[CV 4/5] END ....................n_neighbors=12;, score=0.783 total time=   0.7s\n",
      "[CV 5/5] END ....................n_neighbors=12;, score=0.801 total time=   0.7s\n",
      "[CV 1/5] END ....................n_neighbors=13;, score=0.779 total time=   0.7s\n",
      "[CV 2/5] END ....................n_neighbors=13;, score=0.803 total time=   0.7s\n",
      "[CV 3/5] END ....................n_neighbors=13;, score=0.785 total time=   0.7s\n",
      "[CV 4/5] END ....................n_neighbors=13;, score=0.803 total time=   0.8s\n",
      "[CV 5/5] END ....................n_neighbors=13;, score=0.807 total time=   0.7s\n",
      "[CV 1/5] END ....................n_neighbors=14;, score=0.773 total time=   0.7s\n",
      "[CV 2/5] END ....................n_neighbors=14;, score=0.795 total time=   0.8s\n",
      "[CV 3/5] END ....................n_neighbors=14;, score=0.782 total time=   0.7s\n",
      "[CV 4/5] END ....................n_neighbors=14;, score=0.797 total time=   0.7s\n",
      "[CV 5/5] END ....................n_neighbors=14;, score=0.805 total time=   0.8s\n",
      "[CV 1/5] END ....................n_neighbors=15;, score=0.791 total time=   0.7s\n",
      "[CV 2/5] END ....................n_neighbors=15;, score=0.807 total time=   0.7s\n",
      "[CV 3/5] END ....................n_neighbors=15;, score=0.786 total time=   0.7s\n",
      "[CV 4/5] END ....................n_neighbors=15;, score=0.809 total time=   0.8s\n",
      "[CV 5/5] END ....................n_neighbors=15;, score=0.816 total time=   1.0s\n",
      "[CV 1/5] END ....................n_neighbors=16;, score=0.773 total time=   0.7s\n",
      "[CV 2/5] END ....................n_neighbors=16;, score=0.801 total time=   0.7s\n",
      "[CV 3/5] END ....................n_neighbors=16;, score=0.782 total time=   0.7s\n",
      "[CV 4/5] END ....................n_neighbors=16;, score=0.798 total time=   0.7s\n",
      "[CV 5/5] END ....................n_neighbors=16;, score=0.808 total time=   0.7s\n",
      "[CV 1/5] END ....................n_neighbors=17;, score=0.789 total time=   0.7s\n",
      "[CV 2/5] END ....................n_neighbors=17;, score=0.804 total time=   0.7s\n",
      "[CV 3/5] END ....................n_neighbors=17;, score=0.790 total time=   0.7s\n",
      "[CV 4/5] END ....................n_neighbors=17;, score=0.809 total time=   0.7s\n",
      "[CV 5/5] END ....................n_neighbors=17;, score=0.822 total time=   0.7s\n",
      "[CV 1/5] END ....................n_neighbors=18;, score=0.776 total time=   0.7s\n",
      "[CV 2/5] END ....................n_neighbors=18;, score=0.802 total time=   0.6s\n",
      "[CV 3/5] END ....................n_neighbors=18;, score=0.789 total time=   0.8s\n",
      "[CV 4/5] END ....................n_neighbors=18;, score=0.801 total time=   0.6s\n",
      "[CV 5/5] END ....................n_neighbors=18;, score=0.817 total time=   0.7s\n",
      "[CV 1/5] END ....................n_neighbors=19;, score=0.790 total time=   0.7s\n",
      "[CV 2/5] END ....................n_neighbors=19;, score=0.813 total time=   0.7s\n",
      "[CV 3/5] END ....................n_neighbors=19;, score=0.797 total time=   0.7s\n",
      "[CV 4/5] END ....................n_neighbors=19;, score=0.809 total time=   0.7s\n",
      "[CV 5/5] END ....................n_neighbors=19;, score=0.824 total time=   0.6s\n",
      "[CV 1/5] END ....................n_neighbors=20;, score=0.778 total time=   0.7s\n",
      "[CV 2/5] END ....................n_neighbors=20;, score=0.804 total time=   0.7s\n",
      "[CV 3/5] END ....................n_neighbors=20;, score=0.787 total time=   0.7s\n",
      "[CV 4/5] END ....................n_neighbors=20;, score=0.796 total time=   0.7s\n",
      "[CV 5/5] END ....................n_neighbors=20;, score=0.812 total time=   0.7s\n",
      "[CV 1/5] END ....................n_neighbors=21;, score=0.794 total time=   0.7s\n",
      "[CV 2/5] END ....................n_neighbors=21;, score=0.814 total time=   0.7s\n",
      "[CV 3/5] END ....................n_neighbors=21;, score=0.800 total time=   0.7s\n",
      "[CV 4/5] END ....................n_neighbors=21;, score=0.803 total time=   0.7s\n",
      "[CV 5/5] END ....................n_neighbors=21;, score=0.824 total time=   0.7s\n",
      "[CV 1/5] END ....................n_neighbors=22;, score=0.788 total time=   0.7s\n",
      "[CV 2/5] END ....................n_neighbors=22;, score=0.806 total time=   0.7s\n",
      "[CV 3/5] END ....................n_neighbors=22;, score=0.799 total time=   0.7s\n",
      "[CV 4/5] END ....................n_neighbors=22;, score=0.796 total time=   0.7s\n",
      "[CV 5/5] END ....................n_neighbors=22;, score=0.819 total time=   0.7s\n",
      "[CV 1/5] END ....................n_neighbors=23;, score=0.797 total time=   0.7s\n",
      "[CV 2/5] END ....................n_neighbors=23;, score=0.812 total time=   0.6s\n",
      "[CV 3/5] END ....................n_neighbors=23;, score=0.805 total time=   0.8s\n",
      "[CV 4/5] END ....................n_neighbors=23;, score=0.806 total time=   0.7s\n",
      "[CV 5/5] END ....................n_neighbors=23;, score=0.820 total time=   0.7s\n",
      "[CV 1/5] END ....................n_neighbors=24;, score=0.791 total time=   0.7s\n",
      "[CV 2/5] END ....................n_neighbors=24;, score=0.813 total time=   0.6s\n",
      "[CV 3/5] END ....................n_neighbors=24;, score=0.801 total time=   0.7s\n",
      "[CV 4/5] END ....................n_neighbors=24;, score=0.799 total time=   0.7s\n",
      "[CV 5/5] END ....................n_neighbors=24;, score=0.821 total time=   0.7s\n",
      "[CV 1/5] END ....................n_neighbors=25;, score=0.795 total time=   0.6s\n",
      "[CV 2/5] END ....................n_neighbors=25;, score=0.816 total time=   0.8s\n",
      "[CV 3/5] END ....................n_neighbors=25;, score=0.808 total time=   0.8s\n",
      "[CV 4/5] END ....................n_neighbors=25;, score=0.810 total time=   0.7s\n",
      "[CV 5/5] END ....................n_neighbors=25;, score=0.829 total time=   0.8s\n",
      "[CV 1/5] END ....................n_neighbors=26;, score=0.783 total time=   0.8s\n",
      "[CV 2/5] END ....................n_neighbors=26;, score=0.809 total time=   0.7s\n",
      "[CV 3/5] END ....................n_neighbors=26;, score=0.801 total time=   0.7s\n",
      "[CV 4/5] END ....................n_neighbors=26;, score=0.801 total time=   0.7s\n",
      "[CV 5/5] END ....................n_neighbors=26;, score=0.823 total time=   0.7s\n",
      "[CV 1/5] END ....................n_neighbors=27;, score=0.795 total time=   0.7s\n",
      "[CV 2/5] END ....................n_neighbors=27;, score=0.813 total time=   0.7s\n",
      "[CV 3/5] END ....................n_neighbors=27;, score=0.811 total time=   0.7s\n",
      "[CV 4/5] END ....................n_neighbors=27;, score=0.811 total time=   0.8s\n",
      "[CV 5/5] END ....................n_neighbors=27;, score=0.824 total time=   0.9s\n",
      "[CV 1/5] END ....................n_neighbors=28;, score=0.789 total time=   0.8s\n",
      "[CV 2/5] END ....................n_neighbors=28;, score=0.809 total time=   0.7s\n",
      "[CV 3/5] END ....................n_neighbors=28;, score=0.803 total time=   0.6s\n",
      "[CV 4/5] END ....................n_neighbors=28;, score=0.803 total time=   0.7s\n",
      "[CV 5/5] END ....................n_neighbors=28;, score=0.824 total time=   0.7s\n",
      "[CV 1/5] END ....................n_neighbors=29;, score=0.796 total time=   0.7s\n",
      "[CV 2/5] END ....................n_neighbors=29;, score=0.813 total time=   0.7s\n",
      "[CV 3/5] END ....................n_neighbors=29;, score=0.807 total time=   0.7s\n",
      "[CV 4/5] END ....................n_neighbors=29;, score=0.811 total time=   0.7s\n",
      "[CV 5/5] END ....................n_neighbors=29;, score=0.828 total time=   0.8s\n"
     ]
    },
    {
     "data": {
      "text/html": [
       "<style>#sk-container-id-6 {color: black;}#sk-container-id-6 pre{padding: 0;}#sk-container-id-6 div.sk-toggleable {background-color: white;}#sk-container-id-6 label.sk-toggleable__label {cursor: pointer;display: block;width: 100%;margin-bottom: 0;padding: 0.3em;box-sizing: border-box;text-align: center;}#sk-container-id-6 label.sk-toggleable__label-arrow:before {content: \"▸\";float: left;margin-right: 0.25em;color: #696969;}#sk-container-id-6 label.sk-toggleable__label-arrow:hover:before {color: black;}#sk-container-id-6 div.sk-estimator:hover label.sk-toggleable__label-arrow:before {color: black;}#sk-container-id-6 div.sk-toggleable__content {max-height: 0;max-width: 0;overflow: hidden;text-align: left;background-color: #f0f8ff;}#sk-container-id-6 div.sk-toggleable__content pre {margin: 0.2em;color: black;border-radius: 0.25em;background-color: #f0f8ff;}#sk-container-id-6 input.sk-toggleable__control:checked~div.sk-toggleable__content {max-height: 200px;max-width: 100%;overflow: auto;}#sk-container-id-6 input.sk-toggleable__control:checked~label.sk-toggleable__label-arrow:before {content: \"▾\";}#sk-container-id-6 div.sk-estimator input.sk-toggleable__control:checked~label.sk-toggleable__label {background-color: #d4ebff;}#sk-container-id-6 div.sk-label input.sk-toggleable__control:checked~label.sk-toggleable__label {background-color: #d4ebff;}#sk-container-id-6 input.sk-hidden--visually {border: 0;clip: rect(1px 1px 1px 1px);clip: rect(1px, 1px, 1px, 1px);height: 1px;margin: -1px;overflow: hidden;padding: 0;position: absolute;width: 1px;}#sk-container-id-6 div.sk-estimator {font-family: monospace;background-color: #f0f8ff;border: 1px dotted black;border-radius: 0.25em;box-sizing: border-box;margin-bottom: 0.5em;}#sk-container-id-6 div.sk-estimator:hover {background-color: #d4ebff;}#sk-container-id-6 div.sk-parallel-item::after {content: \"\";width: 100%;border-bottom: 1px solid gray;flex-grow: 1;}#sk-container-id-6 div.sk-label:hover label.sk-toggleable__label {background-color: #d4ebff;}#sk-container-id-6 div.sk-serial::before {content: \"\";position: absolute;border-left: 1px solid gray;box-sizing: border-box;top: 0;bottom: 0;left: 50%;z-index: 0;}#sk-container-id-6 div.sk-serial {display: flex;flex-direction: column;align-items: center;background-color: white;padding-right: 0.2em;padding-left: 0.2em;position: relative;}#sk-container-id-6 div.sk-item {position: relative;z-index: 1;}#sk-container-id-6 div.sk-parallel {display: flex;align-items: stretch;justify-content: center;background-color: white;position: relative;}#sk-container-id-6 div.sk-item::before, #sk-container-id-6 div.sk-parallel-item::before {content: \"\";position: absolute;border-left: 1px solid gray;box-sizing: border-box;top: 0;bottom: 0;left: 50%;z-index: -1;}#sk-container-id-6 div.sk-parallel-item {display: flex;flex-direction: column;z-index: 1;position: relative;background-color: white;}#sk-container-id-6 div.sk-parallel-item:first-child::after {align-self: flex-end;width: 50%;}#sk-container-id-6 div.sk-parallel-item:last-child::after {align-self: flex-start;width: 50%;}#sk-container-id-6 div.sk-parallel-item:only-child::after {width: 0;}#sk-container-id-6 div.sk-dashed-wrapped {border: 1px dashed gray;margin: 0 0.4em 0.5em 0.4em;box-sizing: border-box;padding-bottom: 0.4em;background-color: white;}#sk-container-id-6 div.sk-label label {font-family: monospace;font-weight: bold;display: inline-block;line-height: 1.2em;}#sk-container-id-6 div.sk-label-container {text-align: center;}#sk-container-id-6 div.sk-container {/* jupyter's `normalize.less` sets `[hidden] { display: none; }` but bootstrap.min.css set `[hidden] { display: none !important; }` so we also need the `!important` here to be able to override the default hidden behavior on the sphinx rendered scikit-learn.org. See: https://github.com/scikit-learn/scikit-learn/issues/21755 */display: inline-block !important;position: relative;}#sk-container-id-6 div.sk-text-repr-fallback {display: none;}</style><div id=\"sk-container-id-6\" class=\"sk-top-container\"><div class=\"sk-text-repr-fallback\"><pre>GridSearchCV(estimator=KNeighborsClassifier(),\n",
       "             param_grid={&#x27;n_neighbors&#x27;: array([ 1,  2,  3,  4,  5,  6,  7,  8,  9, 10, 11, 12, 13, 14, 15, 16, 17,\n",
       "       18, 19, 20, 21, 22, 23, 24, 25, 26, 27, 28, 29])},\n",
       "             verbose=3)</pre><b>In a Jupyter environment, please rerun this cell to show the HTML representation or trust the notebook. <br />On GitHub, the HTML representation is unable to render, please try loading this page with nbviewer.org.</b></div><div class=\"sk-container\" hidden><div class=\"sk-item sk-dashed-wrapped\"><div class=\"sk-label-container\"><div class=\"sk-label sk-toggleable\"><input class=\"sk-toggleable__control sk-hidden--visually\" id=\"sk-estimator-id-14\" type=\"checkbox\" ><label for=\"sk-estimator-id-14\" class=\"sk-toggleable__label sk-toggleable__label-arrow\">GridSearchCV</label><div class=\"sk-toggleable__content\"><pre>GridSearchCV(estimator=KNeighborsClassifier(),\n",
       "             param_grid={&#x27;n_neighbors&#x27;: array([ 1,  2,  3,  4,  5,  6,  7,  8,  9, 10, 11, 12, 13, 14, 15, 16, 17,\n",
       "       18, 19, 20, 21, 22, 23, 24, 25, 26, 27, 28, 29])},\n",
       "             verbose=3)</pre></div></div></div><div class=\"sk-parallel\"><div class=\"sk-parallel-item\"><div class=\"sk-item\"><div class=\"sk-label-container\"><div class=\"sk-label sk-toggleable\"><input class=\"sk-toggleable__control sk-hidden--visually\" id=\"sk-estimator-id-15\" type=\"checkbox\" ><label for=\"sk-estimator-id-15\" class=\"sk-toggleable__label sk-toggleable__label-arrow\">estimator: KNeighborsClassifier</label><div class=\"sk-toggleable__content\"><pre>KNeighborsClassifier()</pre></div></div></div><div class=\"sk-serial\"><div class=\"sk-item\"><div class=\"sk-estimator sk-toggleable\"><input class=\"sk-toggleable__control sk-hidden--visually\" id=\"sk-estimator-id-16\" type=\"checkbox\" ><label for=\"sk-estimator-id-16\" class=\"sk-toggleable__label sk-toggleable__label-arrow\">KNeighborsClassifier</label><div class=\"sk-toggleable__content\"><pre>KNeighborsClassifier()</pre></div></div></div></div></div></div></div></div></div></div>"
      ],
      "text/plain": [
       "GridSearchCV(estimator=KNeighborsClassifier(),\n",
       "             param_grid={'n_neighbors': array([ 1,  2,  3,  4,  5,  6,  7,  8,  9, 10, 11, 12, 13, 14, 15, 16, 17,\n",
       "       18, 19, 20, 21, 22, 23, 24, 25, 26, 27, 28, 29])},\n",
       "             verbose=3)"
      ]
     },
     "execution_count": 81,
     "metadata": {},
     "output_type": "execute_result"
    }
   ],
   "source": [
    "param_grid = {'n_neighbors': np.arange(1,30)}\n",
    "grid2 = GridSearchCV(KNeighborsClassifier(),param_grid,refit=True,verbose=3)\n",
    "grid2.fit(X_train_transformed,y_train)"
   ]
  },
  {
   "cell_type": "code",
   "execution_count": 98,
   "id": "ef8a5228-9e2a-445e-a956-e11bd2de6f50",
   "metadata": {},
   "outputs": [
    {
     "data": {
      "text/html": [
       "<style>#sk-container-id-9 {color: black;}#sk-container-id-9 pre{padding: 0;}#sk-container-id-9 div.sk-toggleable {background-color: white;}#sk-container-id-9 label.sk-toggleable__label {cursor: pointer;display: block;width: 100%;margin-bottom: 0;padding: 0.3em;box-sizing: border-box;text-align: center;}#sk-container-id-9 label.sk-toggleable__label-arrow:before {content: \"▸\";float: left;margin-right: 0.25em;color: #696969;}#sk-container-id-9 label.sk-toggleable__label-arrow:hover:before {color: black;}#sk-container-id-9 div.sk-estimator:hover label.sk-toggleable__label-arrow:before {color: black;}#sk-container-id-9 div.sk-toggleable__content {max-height: 0;max-width: 0;overflow: hidden;text-align: left;background-color: #f0f8ff;}#sk-container-id-9 div.sk-toggleable__content pre {margin: 0.2em;color: black;border-radius: 0.25em;background-color: #f0f8ff;}#sk-container-id-9 input.sk-toggleable__control:checked~div.sk-toggleable__content {max-height: 200px;max-width: 100%;overflow: auto;}#sk-container-id-9 input.sk-toggleable__control:checked~label.sk-toggleable__label-arrow:before {content: \"▾\";}#sk-container-id-9 div.sk-estimator input.sk-toggleable__control:checked~label.sk-toggleable__label {background-color: #d4ebff;}#sk-container-id-9 div.sk-label input.sk-toggleable__control:checked~label.sk-toggleable__label {background-color: #d4ebff;}#sk-container-id-9 input.sk-hidden--visually {border: 0;clip: rect(1px 1px 1px 1px);clip: rect(1px, 1px, 1px, 1px);height: 1px;margin: -1px;overflow: hidden;padding: 0;position: absolute;width: 1px;}#sk-container-id-9 div.sk-estimator {font-family: monospace;background-color: #f0f8ff;border: 1px dotted black;border-radius: 0.25em;box-sizing: border-box;margin-bottom: 0.5em;}#sk-container-id-9 div.sk-estimator:hover {background-color: #d4ebff;}#sk-container-id-9 div.sk-parallel-item::after {content: \"\";width: 100%;border-bottom: 1px solid gray;flex-grow: 1;}#sk-container-id-9 div.sk-label:hover label.sk-toggleable__label {background-color: #d4ebff;}#sk-container-id-9 div.sk-serial::before {content: \"\";position: absolute;border-left: 1px solid gray;box-sizing: border-box;top: 0;bottom: 0;left: 50%;z-index: 0;}#sk-container-id-9 div.sk-serial {display: flex;flex-direction: column;align-items: center;background-color: white;padding-right: 0.2em;padding-left: 0.2em;position: relative;}#sk-container-id-9 div.sk-item {position: relative;z-index: 1;}#sk-container-id-9 div.sk-parallel {display: flex;align-items: stretch;justify-content: center;background-color: white;position: relative;}#sk-container-id-9 div.sk-item::before, #sk-container-id-9 div.sk-parallel-item::before {content: \"\";position: absolute;border-left: 1px solid gray;box-sizing: border-box;top: 0;bottom: 0;left: 50%;z-index: -1;}#sk-container-id-9 div.sk-parallel-item {display: flex;flex-direction: column;z-index: 1;position: relative;background-color: white;}#sk-container-id-9 div.sk-parallel-item:first-child::after {align-self: flex-end;width: 50%;}#sk-container-id-9 div.sk-parallel-item:last-child::after {align-self: flex-start;width: 50%;}#sk-container-id-9 div.sk-parallel-item:only-child::after {width: 0;}#sk-container-id-9 div.sk-dashed-wrapped {border: 1px dashed gray;margin: 0 0.4em 0.5em 0.4em;box-sizing: border-box;padding-bottom: 0.4em;background-color: white;}#sk-container-id-9 div.sk-label label {font-family: monospace;font-weight: bold;display: inline-block;line-height: 1.2em;}#sk-container-id-9 div.sk-label-container {text-align: center;}#sk-container-id-9 div.sk-container {/* jupyter's `normalize.less` sets `[hidden] { display: none; }` but bootstrap.min.css set `[hidden] { display: none !important; }` so we also need the `!important` here to be able to override the default hidden behavior on the sphinx rendered scikit-learn.org. See: https://github.com/scikit-learn/scikit-learn/issues/21755 */display: inline-block !important;position: relative;}#sk-container-id-9 div.sk-text-repr-fallback {display: none;}</style><div id=\"sk-container-id-9\" class=\"sk-top-container\"><div class=\"sk-text-repr-fallback\"><pre>GridSearchCV(estimator=KNeighborsClassifier(),\n",
       "             param_grid={&#x27;n_neighbors&#x27;: array([ 1,  2,  3,  4,  5,  6,  7,  8,  9, 10, 11, 12, 13, 14, 15, 16, 17,\n",
       "       18, 19, 20, 21, 22, 23, 24, 25, 26, 27, 28, 29])},\n",
       "             verbose=3)</pre><b>In a Jupyter environment, please rerun this cell to show the HTML representation or trust the notebook. <br />On GitHub, the HTML representation is unable to render, please try loading this page with nbviewer.org.</b></div><div class=\"sk-container\" hidden><div class=\"sk-item sk-dashed-wrapped\"><div class=\"sk-label-container\"><div class=\"sk-label sk-toggleable\"><input class=\"sk-toggleable__control sk-hidden--visually\" id=\"sk-estimator-id-21\" type=\"checkbox\" ><label for=\"sk-estimator-id-21\" class=\"sk-toggleable__label sk-toggleable__label-arrow\">GridSearchCV</label><div class=\"sk-toggleable__content\"><pre>GridSearchCV(estimator=KNeighborsClassifier(),\n",
       "             param_grid={&#x27;n_neighbors&#x27;: array([ 1,  2,  3,  4,  5,  6,  7,  8,  9, 10, 11, 12, 13, 14, 15, 16, 17,\n",
       "       18, 19, 20, 21, 22, 23, 24, 25, 26, 27, 28, 29])},\n",
       "             verbose=3)</pre></div></div></div><div class=\"sk-parallel\"><div class=\"sk-parallel-item\"><div class=\"sk-item\"><div class=\"sk-label-container\"><div class=\"sk-label sk-toggleable\"><input class=\"sk-toggleable__control sk-hidden--visually\" id=\"sk-estimator-id-22\" type=\"checkbox\" ><label for=\"sk-estimator-id-22\" class=\"sk-toggleable__label sk-toggleable__label-arrow\">estimator: KNeighborsClassifier</label><div class=\"sk-toggleable__content\"><pre>KNeighborsClassifier()</pre></div></div></div><div class=\"sk-serial\"><div class=\"sk-item\"><div class=\"sk-estimator sk-toggleable\"><input class=\"sk-toggleable__control sk-hidden--visually\" id=\"sk-estimator-id-23\" type=\"checkbox\" ><label for=\"sk-estimator-id-23\" class=\"sk-toggleable__label sk-toggleable__label-arrow\">KNeighborsClassifier</label><div class=\"sk-toggleable__content\"><pre>KNeighborsClassifier()</pre></div></div></div></div></div></div></div></div></div></div>"
      ],
      "text/plain": [
       "GridSearchCV(estimator=KNeighborsClassifier(),\n",
       "             param_grid={'n_neighbors': array([ 1,  2,  3,  4,  5,  6,  7,  8,  9, 10, 11, 12, 13, 14, 15, 16, 17,\n",
       "       18, 19, 20, 21, 22, 23, 24, 25, 26, 27, 28, 29])},\n",
       "             verbose=3)"
      ]
     },
     "execution_count": 98,
     "metadata": {},
     "output_type": "execute_result"
    }
   ],
   "source": []
  },
  {
   "cell_type": "code",
   "execution_count": 99,
   "id": "c8e46a6a-8be0-4d0b-9bf1-098c25335b02",
   "metadata": {},
   "outputs": [],
   "source": [
    "with open(\"knn.pkl\", 'wb') as f:\n",
    "    pickle.dump(grid2, f)"
   ]
  },
  {
   "cell_type": "code",
   "execution_count": 82,
   "id": "7960f4b8-1b79-4f14-9de3-04fba3b40b1b",
   "metadata": {},
   "outputs": [
    {
     "name": "stdout",
     "output_type": "stream",
     "text": [
      "[[2486  328]\n",
      " [ 719 1948]]\n"
     ]
    }
   ],
   "source": [
    "grid_predictions = grid2.predict(x_test_transformed)\n",
    "print(confusion_matrix(y_test,grid_predictions))"
   ]
  },
  {
   "cell_type": "code",
   "execution_count": 83,
   "id": "f6af49dd-262a-429c-b8b0-7f4fedf72dd2",
   "metadata": {},
   "outputs": [
    {
     "data": {
      "image/png": "[encoded data removed]",
      "text/plain": [
       "<Figure size 800x600 with 2 Axes>"
      ]
     },
     "metadata": {},
     "output_type": "display_data"
    },
    {
     "name": "stdout",
     "output_type": "stream",
     "text": [
      "              precision    recall  f1-score   support\n",
      "\n",
      "           0       0.78      0.88      0.83      2814\n",
      "           1       0.86      0.73      0.79      2667\n",
      "\n",
      "    accuracy                           0.81      5481\n",
      "   macro avg       0.82      0.81      0.81      5481\n",
      "weighted avg       0.81      0.81      0.81      5481\n",
      "\n"
     ]
    }
   ],
   "source": [
    "cm = confusion_matrix(y_test, grid_predictions)\n",
    "\n",
    "# Plot confusion matrix with blue color\n",
    "plt.figure(figsize=(8, 6))\n",
    "sns.heatmap(cm, annot=True, fmt='d', cmap='Blues')  # Change 'Reds' to 'Blues' for blue color\n",
    "plt.xlabel('Predicted labels')\n",
    "plt.ylabel('True labels')\n",
    "plt.title('Confusion Matrix')\n",
    "plt.show()\n",
    "print(classification_report(y_test,grid_predictions))"
   ]
  },
  {
   "cell_type": "markdown",
   "id": "49c71b54-3109-4ec0-ae2b-bf1b03718a1f",
   "metadata": {},
   "source": [
    "# RFC"
   ]
  },
  {
   "cell_type": "code",
   "execution_count": 84,
   "id": "d114d268-2de6-47ed-8aa2-5268ae0f2eb1",
   "metadata": {},
   "outputs": [
    {
     "data": {
      "text/html": [
       "<style>#sk-container-id-7 {color: black;}#sk-container-id-7 pre{padding: 0;}#sk-container-id-7 div.sk-toggleable {background-color: white;}#sk-container-id-7 label.sk-toggleable__label {cursor: pointer;display: block;width: 100%;margin-bottom: 0;padding: 0.3em;box-sizing: border-box;text-align: center;}#sk-container-id-7 label.sk-toggleable__label-arrow:before {content: \"▸\";float: left;margin-right: 0.25em;color: #696969;}#sk-container-id-7 label.sk-toggleable__label-arrow:hover:before {color: black;}#sk-container-id-7 div.sk-estimator:hover label.sk-toggleable__label-arrow:before {color: black;}#sk-container-id-7 div.sk-toggleable__content {max-height: 0;max-width: 0;overflow: hidden;text-align: left;background-color: #f0f8ff;}#sk-container-id-7 div.sk-toggleable__content pre {margin: 0.2em;color: black;border-radius: 0.25em;background-color: #f0f8ff;}#sk-container-id-7 input.sk-toggleable__control:checked~div.sk-toggleable__content {max-height: 200px;max-width: 100%;overflow: auto;}#sk-container-id-7 input.sk-toggleable__control:checked~label.sk-toggleable__label-arrow:before {content: \"▾\";}#sk-container-id-7 div.sk-estimator input.sk-toggleable__control:checked~label.sk-toggleable__label {background-color: #d4ebff;}#sk-container-id-7 div.sk-label input.sk-toggleable__control:checked~label.sk-toggleable__label {background-color: #d4ebff;}#sk-container-id-7 input.sk-hidden--visually {border: 0;clip: rect(1px 1px 1px 1px);clip: rect(1px, 1px, 1px, 1px);height: 1px;margin: -1px;overflow: hidden;padding: 0;position: absolute;width: 1px;}#sk-container-id-7 div.sk-estimator {font-family: monospace;background-color: #f0f8ff;border: 1px dotted black;border-radius: 0.25em;box-sizing: border-box;margin-bottom: 0.5em;}#sk-container-id-7 div.sk-estimator:hover {background-color: #d4ebff;}#sk-container-id-7 div.sk-parallel-item::after {content: \"\";width: 100%;border-bottom: 1px solid gray;flex-grow: 1;}#sk-container-id-7 div.sk-label:hover label.sk-toggleable__label {background-color: #d4ebff;}#sk-container-id-7 div.sk-serial::before {content: \"\";position: absolute;border-left: 1px solid gray;box-sizing: border-box;top: 0;bottom: 0;left: 50%;z-index: 0;}#sk-container-id-7 div.sk-serial {display: flex;flex-direction: column;align-items: center;background-color: white;padding-right: 0.2em;padding-left: 0.2em;position: relative;}#sk-container-id-7 div.sk-item {position: relative;z-index: 1;}#sk-container-id-7 div.sk-parallel {display: flex;align-items: stretch;justify-content: center;background-color: white;position: relative;}#sk-container-id-7 div.sk-item::before, #sk-container-id-7 div.sk-parallel-item::before {content: \"\";position: absolute;border-left: 1px solid gray;box-sizing: border-box;top: 0;bottom: 0;left: 50%;z-index: -1;}#sk-container-id-7 div.sk-parallel-item {display: flex;flex-direction: column;z-index: 1;position: relative;background-color: white;}#sk-container-id-7 div.sk-parallel-item:first-child::after {align-self: flex-end;width: 50%;}#sk-container-id-7 div.sk-parallel-item:last-child::after {align-self: flex-start;width: 50%;}#sk-container-id-7 div.sk-parallel-item:only-child::after {width: 0;}#sk-container-id-7 div.sk-dashed-wrapped {border: 1px dashed gray;margin: 0 0.4em 0.5em 0.4em;box-sizing: border-box;padding-bottom: 0.4em;background-color: white;}#sk-container-id-7 div.sk-label label {font-family: monospace;font-weight: bold;display: inline-block;line-height: 1.2em;}#sk-container-id-7 div.sk-label-container {text-align: center;}#sk-container-id-7 div.sk-container {/* jupyter's `normalize.less` sets `[hidden] { display: none; }` but bootstrap.min.css set `[hidden] { display: none !important; }` so we also need the `!important` here to be able to override the default hidden behavior on the sphinx rendered scikit-learn.org. See: https://github.com/scikit-learn/scikit-learn/issues/21755 */display: inline-block !important;position: relative;}#sk-container-id-7 div.sk-text-repr-fallback {display: none;}</style><div id=\"sk-container-id-7\" class=\"sk-top-container\"><div class=\"sk-text-repr-fallback\"><pre>RandomForestClassifier()</pre><b>In a Jupyter environment, please rerun this cell to show the HTML representation or trust the notebook. <br />On GitHub, the HTML representation is unable to render, please try loading this page with nbviewer.org.</b></div><div class=\"sk-container\" hidden><div class=\"sk-item\"><div class=\"sk-estimator sk-toggleable\"><input class=\"sk-toggleable__control sk-hidden--visually\" id=\"sk-estimator-id-17\" type=\"checkbox\" checked><label for=\"sk-estimator-id-17\" class=\"sk-toggleable__label sk-toggleable__label-arrow\">RandomForestClassifier</label><div class=\"sk-toggleable__content\"><pre>RandomForestClassifier()</pre></div></div></div></div></div>"
      ],
      "text/plain": [
       "RandomForestClassifier()"
      ]
     },
     "execution_count": 84,
     "metadata": {},
     "output_type": "execute_result"
    }
   ],
   "source": [
    "from sklearn.ensemble import RandomForestClassifier\n",
    "grid3 = RandomForestClassifier(n_estimators=100)\n",
    "grid3.fit(X_train_transformed,y_train)"
   ]
  },
  {
   "cell_type": "code",
   "execution_count": 85,
   "id": "fb3e17ac-23c1-4446-85aa-0045f32936a5",
   "metadata": {},
   "outputs": [
    {
     "name": "stdout",
     "output_type": "stream",
     "text": [
      "[[2364  450]\n",
      " [ 379 2288]]\n"
     ]
    }
   ],
   "source": [
    "grid_predictions = grid3.predict(x_test_transformed)\n",
    "print(confusion_matrix(y_test,grid_predictions))"
   ]
  },
  {
   "cell_type": "code",
   "execution_count": 86,
   "id": "8510e75b-38e1-46b8-8d8b-f419596aeb0c",
   "metadata": {},
   "outputs": [
    {
     "data": {
      "image/png": "[encoded data removed]",
      "text/plain": [
       "<Figure size 800x600 with 2 Axes>"
      ]
     },
     "metadata": {},
     "output_type": "display_data"
    },
    {
     "name": "stdout",
     "output_type": "stream",
     "text": [
      "              precision    recall  f1-score   support\n",
      "\n",
      "           0       0.86      0.84      0.85      2814\n",
      "           1       0.84      0.86      0.85      2667\n",
      "\n",
      "    accuracy                           0.85      5481\n",
      "   macro avg       0.85      0.85      0.85      5481\n",
      "weighted avg       0.85      0.85      0.85      5481\n",
      "\n"
     ]
    }
   ],
   "source": [
    "cm = confusion_matrix(y_test, grid_predictions)\n",
    "\n",
    "# Plot confusion matrix with blue color\n",
    "plt.figure(figsize=(8, 6))\n",
    "sns.heatmap(cm, annot=True, fmt='d', cmap='Blues')  # Change 'Reds' to 'Blues' for blue color\n",
    "plt.xlabel('Predicted labels')\n",
    "plt.ylabel('True labels')\n",
    "plt.title('Confusion Matrix')\n",
    "plt.show()\n",
    "print(classification_report(y_test,grid_predictions))"
   ]
  },
  {
   "cell_type": "code",
   "execution_count": 100,
   "id": "68bc3680-4f15-4a92-98b1-5b9996fbb236",
   "metadata": {},
   "outputs": [
    {
     "data": {
      "text/html": [
       "<style>#sk-container-id-10 {color: black;}#sk-container-id-10 pre{padding: 0;}#sk-container-id-10 div.sk-toggleable {background-color: white;}#sk-container-id-10 label.sk-toggleable__label {cursor: pointer;display: block;width: 100%;margin-bottom: 0;padding: 0.3em;box-sizing: border-box;text-align: center;}#sk-container-id-10 label.sk-toggleable__label-arrow:before {content: \"▸\";float: left;margin-right: 0.25em;color: #696969;}#sk-container-id-10 label.sk-toggleable__label-arrow:hover:before {color: black;}#sk-container-id-10 div.sk-estimator:hover label.sk-toggleable__label-arrow:before {color: black;}#sk-container-id-10 div.sk-toggleable__content {max-height: 0;max-width: 0;overflow: hidden;text-align: left;background-color: #f0f8ff;}#sk-container-id-10 div.sk-toggleable__content pre {margin: 0.2em;color: black;border-radius: 0.25em;background-color: #f0f8ff;}#sk-container-id-10 input.sk-toggleable__control:checked~div.sk-toggleable__content {max-height: 200px;max-width: 100%;overflow: auto;}#sk-container-id-10 input.sk-toggleable__control:checked~label.sk-toggleable__label-arrow:before {content: \"▾\";}#sk-container-id-10 div.sk-estimator input.sk-toggleable__control:checked~label.sk-toggleable__label {background-color: #d4ebff;}#sk-container-id-10 div.sk-label input.sk-toggleable__control:checked~label.sk-toggleable__label {background-color: #d4ebff;}#sk-container-id-10 input.sk-hidden--visually {border: 0;clip: rect(1px 1px 1px 1px);clip: rect(1px, 1px, 1px, 1px);height: 1px;margin: -1px;overflow: hidden;padding: 0;position: absolute;width: 1px;}#sk-container-id-10 div.sk-estimator {font-family: monospace;background-color: #f0f8ff;border: 1px dotted black;border-radius: 0.25em;box-sizing: border-box;margin-bottom: 0.5em;}#sk-container-id-10 div.sk-estimator:hover {background-color: #d4ebff;}#sk-container-id-10 div.sk-parallel-item::after {content: \"\";width: 100%;border-bottom: 1px solid gray;flex-grow: 1;}#sk-container-id-10 div.sk-label:hover label.sk-toggleable__label {background-color: #d4ebff;}#sk-container-id-10 div.sk-serial::before {content: \"\";position: absolute;border-left: 1px solid gray;box-sizing: border-box;top: 0;bottom: 0;left: 50%;z-index: 0;}#sk-container-id-10 div.sk-serial {display: flex;flex-direction: column;align-items: center;background-color: white;padding-right: 0.2em;padding-left: 0.2em;position: relative;}#sk-container-id-10 div.sk-item {position: relative;z-index: 1;}#sk-container-id-10 div.sk-parallel {display: flex;align-items: stretch;justify-content: center;background-color: white;position: relative;}#sk-container-id-10 div.sk-item::before, #sk-container-id-10 div.sk-parallel-item::before {content: \"\";position: absolute;border-left: 1px solid gray;box-sizing: border-box;top: 0;bottom: 0;left: 50%;z-index: -1;}#sk-container-id-10 div.sk-parallel-item {display: flex;flex-direction: column;z-index: 1;position: relative;background-color: white;}#sk-container-id-10 div.sk-parallel-item:first-child::after {align-self: flex-end;width: 50%;}#sk-container-id-10 div.sk-parallel-item:last-child::after {align-self: flex-start;width: 50%;}#sk-container-id-10 div.sk-parallel-item:only-child::after {width: 0;}#sk-container-id-10 div.sk-dashed-wrapped {border: 1px dashed gray;margin: 0 0.4em 0.5em 0.4em;box-sizing: border-box;padding-bottom: 0.4em;background-color: white;}#sk-container-id-10 div.sk-label label {font-family: monospace;font-weight: bold;display: inline-block;line-height: 1.2em;}#sk-container-id-10 div.sk-label-container {text-align: center;}#sk-container-id-10 div.sk-container {/* jupyter's `normalize.less` sets `[hidden] { display: none; }` but bootstrap.min.css set `[hidden] { display: none !important; }` so we also need the `!important` here to be able to override the default hidden behavior on the sphinx rendered scikit-learn.org. See: https://github.com/scikit-learn/scikit-learn/issues/21755 */display: inline-block !important;position: relative;}#sk-container-id-10 div.sk-text-repr-fallback {display: none;}</style><div id=\"sk-container-id-10\" class=\"sk-top-container\"><div class=\"sk-text-repr-fallback\"><pre>RandomForestClassifier()</pre><b>In a Jupyter environment, please rerun this cell to show the HTML representation or trust the notebook. <br />On GitHub, the HTML representation is unable to render, please try loading this page with nbviewer.org.</b></div><div class=\"sk-container\" hidden><div class=\"sk-item\"><div class=\"sk-estimator sk-toggleable\"><input class=\"sk-toggleable__control sk-hidden--visually\" id=\"sk-estimator-id-24\" type=\"checkbox\" checked><label for=\"sk-estimator-id-24\" class=\"sk-toggleable__label sk-toggleable__label-arrow\">RandomForestClassifier</label><div class=\"sk-toggleable__content\"><pre>RandomForestClassifier()</pre></div></div></div></div></div>"
      ],
      "text/plain": [
       "RandomForestClassifier()"
      ]
     },
     "execution_count": 100,
     "metadata": {},
     "output_type": "execute_result"
    }
   ],
   "source": [
    "grid3"
   ]
  },
  {
   "cell_type": "code",
   "execution_count": 101,
   "id": "9ffaf084-c7c7-4471-b8db-4055c1e3397e",
   "metadata": {},
   "outputs": [],
   "source": [
    "with open(\"rfc.pkl\", 'wb') as f:\n",
    "    pickle.dump(grid3, f)"
   ]
  },
  {
   "cell_type": "markdown",
   "id": "1b35f942-4860-4786-b126-8fa2983713fb",
   "metadata": {},
   "source": [
    "# MultinomialNB"
   ]
  },
  {
   "cell_type": "code",
   "execution_count": 87,
   "id": "01d50bc6-e729-41f3-a9f1-79cbf11bcc0a",
   "metadata": {},
   "outputs": [
    {
     "name": "stdout",
     "output_type": "stream",
     "text": [
      "Fitting 5 folds for each of 56 candidates, totalling 280 fits\n",
      "[CV 1/5] END alpha=0.1, class_prior=None, fit_prior=True;, score=0.809 total time=   0.0s\n",
      "[CV 2/5] END alpha=0.1, class_prior=None, fit_prior=True;, score=0.820 total time=   0.0s\n",
      "[CV 3/5] END alpha=0.1, class_prior=None, fit_prior=True;, score=0.819 total time=   0.0s\n",
      "[CV 4/5] END alpha=0.1, class_prior=None, fit_prior=True;, score=0.815 total time=   0.0s\n",
      "[CV 5/5] END alpha=0.1, class_prior=None, fit_prior=True;, score=0.824 total time=   0.0s\n",
      "[CV 1/5] END alpha=0.1, class_prior=None, fit_prior=False;, score=0.806 total time=   0.0s\n",
      "[CV 2/5] END alpha=0.1, class_prior=None, fit_prior=False;, score=0.823 total time=   0.0s\n",
      "[CV 3/5] END alpha=0.1, class_prior=None, fit_prior=False;, score=0.816 total time=   0.0s\n",
      "[CV 4/5] END alpha=0.1, class_prior=None, fit_prior=False;, score=0.815 total time=   0.0s\n",
      "[CV 5/5] END alpha=0.1, class_prior=None, fit_prior=False;, score=0.824 total time=   0.0s\n",
      "[CV 1/5] END alpha=0.1, class_prior=[0.1, 0.9, 0.5], fit_prior=True;, score=nan total time=   0.0s\n",
      "[CV 2/5] END alpha=0.1, class_prior=[0.1, 0.9, 0.5], fit_prior=True;, score=nan total time=   0.0s\n",
      "[CV 3/5] END alpha=0.1, class_prior=[0.1, 0.9, 0.5], fit_prior=True;, score=nan total time=   0.0s\n",
      "[CV 4/5] END alpha=0.1, class_prior=[0.1, 0.9, 0.5], fit_prior=True;, score=nan total time=   0.0s\n",
      "[CV 5/5] END alpha=0.1, class_prior=[0.1, 0.9, 0.5], fit_prior=True;, score=nan total time=   0.0s\n",
      "[CV 1/5] END alpha=0.1, class_prior=[0.1, 0.9, 0.5], fit_prior=False;, score=nan total time=   0.0s\n",
      "[CV 2/5] END alpha=0.1, class_prior=[0.1, 0.9, 0.5], fit_prior=False;, score=nan total time=   0.0s\n",
      "[CV 3/5] END alpha=0.1, class_prior=[0.1, 0.9, 0.5], fit_prior=False;, score=nan total time=   0.0s\n",
      "[CV 4/5] END alpha=0.1, class_prior=[0.1, 0.9, 0.5], fit_prior=False;, score=nan total time=   0.0s\n",
      "[CV 5/5] END alpha=0.1, class_prior=[0.1, 0.9, 0.5], fit_prior=False;, score=nan total time=   0.0s\n",
      "[CV 1/5] END alpha=0.1, class_prior=[0.5, 0.5, 0.2], fit_prior=True;, score=nan total time=   0.0s\n",
      "[CV 2/5] END alpha=0.1, class_prior=[0.5, 0.5, 0.2], fit_prior=True;, score=nan total time=   0.0s\n",
      "[CV 3/5] END alpha=0.1, class_prior=[0.5, 0.5, 0.2], fit_prior=True;, score=nan total time=   0.0s\n",
      "[CV 4/5] END alpha=0.1, class_prior=[0.5, 0.5, 0.2], fit_prior=True;, score=nan total time=   0.0s\n",
      "[CV 5/5] END alpha=0.1, class_prior=[0.5, 0.5, 0.2], fit_prior=True;, score=nan total time=   0.0s\n",
      "[CV 1/5] END alpha=0.1, class_prior=[0.5, 0.5, 0.2], fit_prior=False;, score=nan total time=   0.0s\n",
      "[CV 2/5] END alpha=0.1, class_prior=[0.5, 0.5, 0.2], fit_prior=False;, score=nan total time=   0.0s\n",
      "[CV 3/5] END alpha=0.1, class_prior=[0.5, 0.5, 0.2], fit_prior=False;, score=nan total time=   0.0s\n",
      "[CV 4/5] END alpha=0.1, class_prior=[0.5, 0.5, 0.2], fit_prior=False;, score=nan total time=   0.0s\n",
      "[CV 5/5] END alpha=0.1, class_prior=[0.5, 0.5, 0.2], fit_prior=False;, score=nan total time=   0.0s\n",
      "[CV 1/5] END alpha=0.1, class_prior=[0.9, 0.1, 0.5], fit_prior=True;, score=nan total time=   0.0s\n",
      "[CV 2/5] END alpha=0.1, class_prior=[0.9, 0.1, 0.5], fit_prior=True;, score=nan total time=   0.0s\n",
      "[CV 3/5] END alpha=0.1, class_prior=[0.9, 0.1, 0.5], fit_prior=True;, score=nan total time=   0.0s\n",
      "[CV 4/5] END alpha=0.1, class_prior=[0.9, 0.1, 0.5], fit_prior=True;, score=nan total time=   0.0s\n",
      "[CV 5/5] END alpha=0.1, class_prior=[0.9, 0.1, 0.5], fit_prior=True;, score=nan total time=   0.0s\n",
      "[CV 1/5] END alpha=0.1, class_prior=[0.9, 0.1, 0.5], fit_prior=False;, score=nan total time=   0.0s\n",
      "[CV 2/5] END alpha=0.1, class_prior=[0.9, 0.1, 0.5], fit_prior=False;, score=nan total time=   0.0s\n",
      "[CV 3/5] END alpha=0.1, class_prior=[0.9, 0.1, 0.5], fit_prior=False;, score=nan total time=   0.0s\n",
      "[CV 4/5] END alpha=0.1, class_prior=[0.9, 0.1, 0.5], fit_prior=False;, score=nan total time=   0.0s\n",
      "[CV 5/5] END alpha=0.1, class_prior=[0.9, 0.1, 0.5], fit_prior=False;, score=nan total time=   0.0s\n",
      "[CV 1/5] END alpha=0.5, class_prior=None, fit_prior=True;, score=0.828 total time=   0.0s\n",
      "[CV 2/5] END alpha=0.5, class_prior=None, fit_prior=True;, score=0.847 total time=   0.0s\n",
      "[CV 3/5] END alpha=0.5, class_prior=None, fit_prior=True;, score=0.834 total time=   0.0s\n",
      "[CV 4/5] END alpha=0.5, class_prior=None, fit_prior=True;, score=0.832 total time=   0.0s\n",
      "[CV 5/5] END alpha=0.5, class_prior=None, fit_prior=True;, score=0.846 total time=   0.0s\n",
      "[CV 1/5] END alpha=0.5, class_prior=None, fit_prior=False;, score=0.827 total time=   0.0s\n",
      "[CV 2/5] END alpha=0.5, class_prior=None, fit_prior=False;, score=0.845 total time=   0.0s\n",
      "[CV 3/5] END alpha=0.5, class_prior=None, fit_prior=False;, score=0.833 total time=   0.0s\n",
      "[CV 4/5] END alpha=0.5, class_prior=None, fit_prior=False;, score=0.833 total time=   0.0s\n",
      "[CV 5/5] END alpha=0.5, class_prior=None, fit_prior=False;, score=0.847 total time=   0.0s\n",
      "[CV 1/5] END alpha=0.5, class_prior=[0.1, 0.9, 0.5], fit_prior=True;, score=nan total time=   0.0s\n",
      "[CV 2/5] END alpha=0.5, class_prior=[0.1, 0.9, 0.5], fit_prior=True;, score=nan total time=   0.0s\n",
      "[CV 3/5] END alpha=0.5, class_prior=[0.1, 0.9, 0.5], fit_prior=True;, score=nan total time=   0.0s\n",
      "[CV 4/5] END alpha=0.5, class_prior=[0.1, 0.9, 0.5], fit_prior=True;, score=nan total time=   0.0s\n",
      "[CV 5/5] END alpha=0.5, class_prior=[0.1, 0.9, 0.5], fit_prior=True;, score=nan total time=   0.0s\n",
      "[CV 1/5] END alpha=0.5, class_prior=[0.1, 0.9, 0.5], fit_prior=False;, score=nan total time=   0.0s\n",
      "[CV 2/5] END alpha=0.5, class_prior=[0.1, 0.9, 0.5], fit_prior=False;, score=nan total time=   0.0s\n",
      "[CV 3/5] END alpha=0.5, class_prior=[0.1, 0.9, 0.5], fit_prior=False;, score=nan total time=   0.0s\n",
      "[CV 4/5] END alpha=0.5, class_prior=[0.1, 0.9, 0.5], fit_prior=False;, score=nan total time=   0.0s\n",
      "[CV 5/5] END alpha=0.5, class_prior=[0.1, 0.9, 0.5], fit_prior=False;, score=nan total time=   0.0s\n",
      "[CV 1/5] END alpha=0.5, class_prior=[0.5, 0.5, 0.2], fit_prior=True;, score=nan total time=   0.0s\n",
      "[CV 2/5] END alpha=0.5, class_prior=[0.5, 0.5, 0.2], fit_prior=True;, score=nan total time=   0.0s\n",
      "[CV 3/5] END alpha=0.5, class_prior=[0.5, 0.5, 0.2], fit_prior=True;, score=nan total time=   0.0s\n",
      "[CV 4/5] END alpha=0.5, class_prior=[0.5, 0.5, 0.2], fit_prior=True;, score=nan total time=   0.0s\n",
      "[CV 5/5] END alpha=0.5, class_prior=[0.5, 0.5, 0.2], fit_prior=True;, score=nan total time=   0.0s\n",
      "[CV 1/5] END alpha=0.5, class_prior=[0.5, 0.5, 0.2], fit_prior=False;, score=nan total time=   0.0s\n",
      "[CV 2/5] END alpha=0.5, class_prior=[0.5, 0.5, 0.2], fit_prior=False;, score=nan total time=   0.0s\n",
      "[CV 3/5] END alpha=0.5, class_prior=[0.5, 0.5, 0.2], fit_prior=False;, score=nan total time=   0.0s\n",
      "[CV 4/5] END alpha=0.5, class_prior=[0.5, 0.5, 0.2], fit_prior=False;, score=nan total time=   0.0s\n",
      "[CV 5/5] END alpha=0.5, class_prior=[0.5, 0.5, 0.2], fit_prior=False;, score=nan total time=   0.0s\n",
      "[CV 1/5] END alpha=0.5, class_prior=[0.9, 0.1, 0.5], fit_prior=True;, score=nan total time=   0.0s\n",
      "[CV 2/5] END alpha=0.5, class_prior=[0.9, 0.1, 0.5], fit_prior=True;, score=nan total time=   0.0s\n",
      "[CV 3/5] END alpha=0.5, class_prior=[0.9, 0.1, 0.5], fit_prior=True;, score=nan total time=   0.0s\n",
      "[CV 4/5] END alpha=0.5, class_prior=[0.9, 0.1, 0.5], fit_prior=True;, score=nan total time=   0.0s\n",
      "[CV 5/5] END alpha=0.5, class_prior=[0.9, 0.1, 0.5], fit_prior=True;, score=nan total time=   0.0s\n",
      "[CV 1/5] END alpha=0.5, class_prior=[0.9, 0.1, 0.5], fit_prior=False;, score=nan total time=   0.0s\n",
      "[CV 2/5] END alpha=0.5, class_prior=[0.9, 0.1, 0.5], fit_prior=False;, score=nan total time=   0.0s\n",
      "[CV 3/5] END alpha=0.5, class_prior=[0.9, 0.1, 0.5], fit_prior=False;, score=nan total time=   0.0s\n",
      "[CV 4/5] END alpha=0.5, class_prior=[0.9, 0.1, 0.5], fit_prior=False;, score=nan total time=   0.0s\n",
      "[CV 5/5] END alpha=0.5, class_prior=[0.9, 0.1, 0.5], fit_prior=False;, score=nan total time=   0.0s\n",
      "[CV 1/5] END alpha=1.0, class_prior=None, fit_prior=True;, score=0.837 total time=   0.0s\n",
      "[CV 2/5] END alpha=1.0, class_prior=None, fit_prior=True;, score=0.847 total time=   0.0s\n",
      "[CV 3/5] END alpha=1.0, class_prior=None, fit_prior=True;, score=0.838 total time=   0.0s\n",
      "[CV 4/5] END alpha=1.0, class_prior=None, fit_prior=True;, score=0.838 total time=   0.0s\n",
      "[CV 5/5] END alpha=1.0, class_prior=None, fit_prior=True;, score=0.850 total time=   0.0s\n",
      "[CV 1/5] END alpha=1.0, class_prior=None, fit_prior=False;, score=0.841 total time=   0.0s\n",
      "[CV 2/5] END alpha=1.0, class_prior=None, fit_prior=False;, score=0.849 total time=   0.0s\n",
      "[CV 3/5] END alpha=1.0, class_prior=None, fit_prior=False;, score=0.840 total time=   0.0s\n",
      "[CV 4/5] END alpha=1.0, class_prior=None, fit_prior=False;, score=0.838 total time=   0.0s\n",
      "[CV 5/5] END alpha=1.0, class_prior=None, fit_prior=False;, score=0.854 total time=   0.0s\n",
      "[CV 1/5] END alpha=1.0, class_prior=[0.1, 0.9, 0.5], fit_prior=True;, score=nan total time=   0.0s\n",
      "[CV 2/5] END alpha=1.0, class_prior=[0.1, 0.9, 0.5], fit_prior=True;, score=nan total time=   0.0s\n",
      "[CV 3/5] END alpha=1.0, class_prior=[0.1, 0.9, 0.5], fit_prior=True;, score=nan total time=   0.0s\n",
      "[CV 4/5] END alpha=1.0, class_prior=[0.1, 0.9, 0.5], fit_prior=True;, score=nan total time=   0.0s\n",
      "[CV 5/5] END alpha=1.0, class_prior=[0.1, 0.9, 0.5], fit_prior=True;, score=nan total time=   0.0s\n",
      "[CV 1/5] END alpha=1.0, class_prior=[0.1, 0.9, 0.5], fit_prior=False;, score=nan total time=   0.0s\n",
      "[CV 2/5] END alpha=1.0, class_prior=[0.1, 0.9, 0.5], fit_prior=False;, score=nan total time=   0.0s\n",
      "[CV 3/5] END alpha=1.0, class_prior=[0.1, 0.9, 0.5], fit_prior=False;, score=nan total time=   0.0s\n",
      "[CV 4/5] END alpha=1.0, class_prior=[0.1, 0.9, 0.5], fit_prior=False;, score=nan total time=   0.0s\n",
      "[CV 5/5] END alpha=1.0, class_prior=[0.1, 0.9, 0.5], fit_prior=False;, score=nan total time=   0.0s\n",
      "[CV 1/5] END alpha=1.0, class_prior=[0.5, 0.5, 0.2], fit_prior=True;, score=nan total time=   0.0s\n",
      "[CV 2/5] END alpha=1.0, class_prior=[0.5, 0.5, 0.2], fit_prior=True;, score=nan total time=   0.0s\n",
      "[CV 3/5] END alpha=1.0, class_prior=[0.5, 0.5, 0.2], fit_prior=True;, score=nan total time=   0.0s\n",
      "[CV 4/5] END alpha=1.0, class_prior=[0.5, 0.5, 0.2], fit_prior=True;, score=nan total time=   0.0s\n",
      "[CV 5/5] END alpha=1.0, class_prior=[0.5, 0.5, 0.2], fit_prior=True;, score=nan total time=   0.0s\n",
      "[CV 1/5] END alpha=1.0, class_prior=[0.5, 0.5, 0.2], fit_prior=False;, score=nan total time=   0.0s\n",
      "[CV 2/5] END alpha=1.0, class_prior=[0.5, 0.5, 0.2], fit_prior=False;, score=nan total time=   0.0s\n",
      "[CV 3/5] END alpha=1.0, class_prior=[0.5, 0.5, 0.2], fit_prior=False;, score=nan total time=   0.0s\n",
      "[CV 4/5] END alpha=1.0, class_prior=[0.5, 0.5, 0.2], fit_prior=False;, score=nan total time=   0.0s\n",
      "[CV 5/5] END alpha=1.0, class_prior=[0.5, 0.5, 0.2], fit_prior=False;, score=nan total time=   0.0s\n",
      "[CV 1/5] END alpha=1.0, class_prior=[0.9, 0.1, 0.5], fit_prior=True;, score=nan total time=   0.0s\n",
      "[CV 2/5] END alpha=1.0, class_prior=[0.9, 0.1, 0.5], fit_prior=True;, score=nan total time=   0.0s\n",
      "[CV 3/5] END alpha=1.0, class_prior=[0.9, 0.1, 0.5], fit_prior=True;, score=nan total time=   0.0s\n",
      "[CV 4/5] END alpha=1.0, class_prior=[0.9, 0.1, 0.5], fit_prior=True;, score=nan total time=   0.0s\n",
      "[CV 5/5] END alpha=1.0, class_prior=[0.9, 0.1, 0.5], fit_prior=True;, score=nan total time=   0.0s\n",
      "[CV 1/5] END alpha=1.0, class_prior=[0.9, 0.1, 0.5], fit_prior=False;, score=nan total time=   0.0s\n",
      "[CV 2/5] END alpha=1.0, class_prior=[0.9, 0.1, 0.5], fit_prior=False;, score=nan total time=   0.0s\n",
      "[CV 3/5] END alpha=1.0, class_prior=[0.9, 0.1, 0.5], fit_prior=False;, score=nan total time=   0.0s\n",
      "[CV 4/5] END alpha=1.0, class_prior=[0.9, 0.1, 0.5], fit_prior=False;, score=nan total time=   0.0s\n",
      "[CV 5/5] END alpha=1.0, class_prior=[0.9, 0.1, 0.5], fit_prior=False;, score=nan total time=   0.0s\n",
      "[CV 1/5] END alpha=2.0, class_prior=None, fit_prior=True;, score=0.839 total time=   0.0s\n",
      "[CV 2/5] END alpha=2.0, class_prior=None, fit_prior=True;, score=0.845 total time=   0.0s\n",
      "[CV 3/5] END alpha=2.0, class_prior=None, fit_prior=True;, score=0.831 total time=   0.0s\n",
      "[CV 4/5] END alpha=2.0, class_prior=None, fit_prior=True;, score=0.838 total time=   0.0s\n",
      "[CV 5/5] END alpha=2.0, class_prior=None, fit_prior=True;, score=0.844 total time=   0.0s\n",
      "[CV 1/5] END alpha=2.0, class_prior=None, fit_prior=False;, score=0.846 total time=   0.0s\n",
      "[CV 2/5] END alpha=2.0, class_prior=None, fit_prior=False;, score=0.851 total time=   0.0s\n",
      "[CV 3/5] END alpha=2.0, class_prior=None, fit_prior=False;, score=0.840 total time=   0.0s\n",
      "[CV 4/5] END alpha=2.0, class_prior=None, fit_prior=False;, score=0.845 total time=   0.0s\n",
      "[CV 5/5] END alpha=2.0, class_prior=None, fit_prior=False;, score=0.855 total time=   0.0s\n",
      "[CV 1/5] END alpha=2.0, class_prior=[0.1, 0.9, 0.5], fit_prior=True;, score=nan total time=   0.0s\n",
      "[CV 2/5] END alpha=2.0, class_prior=[0.1, 0.9, 0.5], fit_prior=True;, score=nan total time=   0.0s\n",
      "[CV 3/5] END alpha=2.0, class_prior=[0.1, 0.9, 0.5], fit_prior=True;, score=nan total time=   0.0s\n",
      "[CV 4/5] END alpha=2.0, class_prior=[0.1, 0.9, 0.5], fit_prior=True;, score=nan total time=   0.0s\n",
      "[CV 5/5] END alpha=2.0, class_prior=[0.1, 0.9, 0.5], fit_prior=True;, score=nan total time=   0.0s\n",
      "[CV 1/5] END alpha=2.0, class_prior=[0.1, 0.9, 0.5], fit_prior=False;, score=nan total time=   0.0s\n",
      "[CV 2/5] END alpha=2.0, class_prior=[0.1, 0.9, 0.5], fit_prior=False;, score=nan total time=   0.0s\n",
      "[CV 3/5] END alpha=2.0, class_prior=[0.1, 0.9, 0.5], fit_prior=False;, score=nan total time=   0.0s\n",
      "[CV 4/5] END alpha=2.0, class_prior=[0.1, 0.9, 0.5], fit_prior=False;, score=nan total time=   0.0s\n",
      "[CV 5/5] END alpha=2.0, class_prior=[0.1, 0.9, 0.5], fit_prior=False;, score=nan total time=   0.0s\n",
      "[CV 1/5] END alpha=2.0, class_prior=[0.5, 0.5, 0.2], fit_prior=True;, score=nan total time=   0.0s\n",
      "[CV 2/5] END alpha=2.0, class_prior=[0.5, 0.5, 0.2], fit_prior=True;, score=nan total time=   0.0s\n",
      "[CV 3/5] END alpha=2.0, class_prior=[0.5, 0.5, 0.2], fit_prior=True;, score=nan total time=   0.0s\n",
      "[CV 4/5] END alpha=2.0, class_prior=[0.5, 0.5, 0.2], fit_prior=True;, score=nan total time=   0.0s\n",
      "[CV 5/5] END alpha=2.0, class_prior=[0.5, 0.5, 0.2], fit_prior=True;, score=nan total time=   0.0s\n",
      "[CV 1/5] END alpha=2.0, class_prior=[0.5, 0.5, 0.2], fit_prior=False;, score=nan total time=   0.0s\n",
      "[CV 2/5] END alpha=2.0, class_prior=[0.5, 0.5, 0.2], fit_prior=False;, score=nan total time=   0.0s\n",
      "[CV 3/5] END alpha=2.0, class_prior=[0.5, 0.5, 0.2], fit_prior=False;, score=nan total time=   0.0s\n",
      "[CV 4/5] END alpha=2.0, class_prior=[0.5, 0.5, 0.2], fit_prior=False;, score=nan total time=   0.0s\n",
      "[CV 5/5] END alpha=2.0, class_prior=[0.5, 0.5, 0.2], fit_prior=False;, score=nan total time=   0.0s\n",
      "[CV 1/5] END alpha=2.0, class_prior=[0.9, 0.1, 0.5], fit_prior=True;, score=nan total time=   0.0s\n",
      "[CV 2/5] END alpha=2.0, class_prior=[0.9, 0.1, 0.5], fit_prior=True;, score=nan total time=   0.0s\n",
      "[CV 3/5] END alpha=2.0, class_prior=[0.9, 0.1, 0.5], fit_prior=True;, score=nan total time=   0.0s\n",
      "[CV 4/5] END alpha=2.0, class_prior=[0.9, 0.1, 0.5], fit_prior=True;, score=nan total time=   0.0s\n",
      "[CV 5/5] END alpha=2.0, class_prior=[0.9, 0.1, 0.5], fit_prior=True;, score=nan total time=   0.0s\n",
      "[CV 1/5] END alpha=2.0, class_prior=[0.9, 0.1, 0.5], fit_prior=False;, score=nan total time=   0.0s\n",
      "[CV 2/5] END alpha=2.0, class_prior=[0.9, 0.1, 0.5], fit_prior=False;, score=nan total time=   0.0s\n",
      "[CV 3/5] END alpha=2.0, class_prior=[0.9, 0.1, 0.5], fit_prior=False;, score=nan total time=   0.0s\n",
      "[CV 4/5] END alpha=2.0, class_prior=[0.9, 0.1, 0.5], fit_prior=False;, score=nan total time=   0.0s\n",
      "[CV 5/5] END alpha=2.0, class_prior=[0.9, 0.1, 0.5], fit_prior=False;, score=nan total time=   0.0s\n",
      "[CV 1/5] END alpha=3.0, class_prior=None, fit_prior=True;, score=0.835 total time=   0.0s\n",
      "[CV 2/5] END alpha=3.0, class_prior=None, fit_prior=True;, score=0.842 total time=   0.0s\n",
      "[CV 3/5] END alpha=3.0, class_prior=None, fit_prior=True;, score=0.824 total time=   0.0s\n",
      "[CV 4/5] END alpha=3.0, class_prior=None, fit_prior=True;, score=0.831 total time=   0.0s\n",
      "[CV 5/5] END alpha=3.0, class_prior=None, fit_prior=True;, score=0.840 total time=   0.0s\n",
      "[CV 1/5] END alpha=3.0, class_prior=None, fit_prior=False;, score=0.848 total time=   0.0s\n",
      "[CV 2/5] END alpha=3.0, class_prior=None, fit_prior=False;, score=0.854 total time=   0.0s\n",
      "[CV 3/5] END alpha=3.0, class_prior=None, fit_prior=False;, score=0.840 total time=   0.0s\n",
      "[CV 4/5] END alpha=3.0, class_prior=None, fit_prior=False;, score=0.845 total time=   0.0s\n",
      "[CV 5/5] END alpha=3.0, class_prior=None, fit_prior=False;, score=0.852 total time=   0.0s\n",
      "[CV 1/5] END alpha=3.0, class_prior=[0.1, 0.9, 0.5], fit_prior=True;, score=nan total time=   0.0s\n",
      "[CV 2/5] END alpha=3.0, class_prior=[0.1, 0.9, 0.5], fit_prior=True;, score=nan total time=   0.0s\n",
      "[CV 3/5] END alpha=3.0, class_prior=[0.1, 0.9, 0.5], fit_prior=True;, score=nan total time=   0.0s\n",
      "[CV 4/5] END alpha=3.0, class_prior=[0.1, 0.9, 0.5], fit_prior=True;, score=nan total time=   0.0s\n",
      "[CV 5/5] END alpha=3.0, class_prior=[0.1, 0.9, 0.5], fit_prior=True;, score=nan total time=   0.0s\n",
      "[CV 1/5] END alpha=3.0, class_prior=[0.1, 0.9, 0.5], fit_prior=False;, score=nan total time=   0.0s\n",
      "[CV 2/5] END alpha=3.0, class_prior=[0.1, 0.9, 0.5], fit_prior=False;, score=nan total time=   0.0s\n",
      "[CV 3/5] END alpha=3.0, class_prior=[0.1, 0.9, 0.5], fit_prior=False;, score=nan total time=   0.0s\n",
      "[CV 4/5] END alpha=3.0, class_prior=[0.1, 0.9, 0.5], fit_prior=False;, score=nan total time=   0.0s\n",
      "[CV 5/5] END alpha=3.0, class_prior=[0.1, 0.9, 0.5], fit_prior=False;, score=nan total time=   0.0s\n",
      "[CV 1/5] END alpha=3.0, class_prior=[0.5, 0.5, 0.2], fit_prior=True;, score=nan total time=   0.0s\n",
      "[CV 2/5] END alpha=3.0, class_prior=[0.5, 0.5, 0.2], fit_prior=True;, score=nan total time=   0.0s\n",
      "[CV 3/5] END alpha=3.0, class_prior=[0.5, 0.5, 0.2], fit_prior=True;, score=nan total time=   0.0s\n",
      "[CV 4/5] END alpha=3.0, class_prior=[0.5, 0.5, 0.2], fit_prior=True;, score=nan total time=   0.0s\n",
      "[CV 5/5] END alpha=3.0, class_prior=[0.5, 0.5, 0.2], fit_prior=True;, score=nan total time=   0.0s\n",
      "[CV 1/5] END alpha=3.0, class_prior=[0.5, 0.5, 0.2], fit_prior=False;, score=nan total time=   0.0s\n",
      "[CV 2/5] END alpha=3.0, class_prior=[0.5, 0.5, 0.2], fit_prior=False;, score=nan total time=   0.0s\n",
      "[CV 3/5] END alpha=3.0, class_prior=[0.5, 0.5, 0.2], fit_prior=False;, score=nan total time=   0.0s\n",
      "[CV 4/5] END alpha=3.0, class_prior=[0.5, 0.5, 0.2], fit_prior=False;, score=nan total time=   0.0s\n",
      "[CV 5/5] END alpha=3.0, class_prior=[0.5, 0.5, 0.2], fit_prior=False;, score=nan total time=   0.0s\n",
      "[CV 1/5] END alpha=3.0, class_prior=[0.9, 0.1, 0.5], fit_prior=True;, score=nan total time=   0.0s\n",
      "[CV 2/5] END alpha=3.0, class_prior=[0.9, 0.1, 0.5], fit_prior=True;, score=nan total time=   0.0s\n",
      "[CV 3/5] END alpha=3.0, class_prior=[0.9, 0.1, 0.5], fit_prior=True;, score=nan total time=   0.0s\n",
      "[CV 4/5] END alpha=3.0, class_prior=[0.9, 0.1, 0.5], fit_prior=True;, score=nan total time=   0.0s\n",
      "[CV 5/5] END alpha=3.0, class_prior=[0.9, 0.1, 0.5], fit_prior=True;, score=nan total time=   0.0s\n",
      "[CV 1/5] END alpha=3.0, class_prior=[0.9, 0.1, 0.5], fit_prior=False;, score=nan total time=   0.0s\n",
      "[CV 2/5] END alpha=3.0, class_prior=[0.9, 0.1, 0.5], fit_prior=False;, score=nan total time=   0.0s\n",
      "[CV 3/5] END alpha=3.0, class_prior=[0.9, 0.1, 0.5], fit_prior=False;, score=nan total time=   0.0s\n",
      "[CV 4/5] END alpha=3.0, class_prior=[0.9, 0.1, 0.5], fit_prior=False;, score=nan total time=   0.0s\n",
      "[CV 5/5] END alpha=3.0, class_prior=[0.9, 0.1, 0.5], fit_prior=False;, score=nan total time=   0.0s\n",
      "[CV 1/5] END alpha=3.5, class_prior=None, fit_prior=True;, score=0.834 total time=   0.0s\n",
      "[CV 2/5] END alpha=3.5, class_prior=None, fit_prior=True;, score=0.838 total time=   0.0s\n",
      "[CV 3/5] END alpha=3.5, class_prior=None, fit_prior=True;, score=0.822 total time=   0.0s\n",
      "[CV 4/5] END alpha=3.5, class_prior=None, fit_prior=True;, score=0.829 total time=   0.0s\n",
      "[CV 5/5] END alpha=3.5, class_prior=None, fit_prior=True;, score=0.840 total time=   0.0s\n",
      "[CV 1/5] END alpha=3.5, class_prior=None, fit_prior=False;, score=0.848 total time=   0.0s\n",
      "[CV 2/5] END alpha=3.5, class_prior=None, fit_prior=False;, score=0.853 total time=   0.0s\n",
      "[CV 3/5] END alpha=3.5, class_prior=None, fit_prior=False;, score=0.838 total time=   0.0s\n",
      "[CV 4/5] END alpha=3.5, class_prior=None, fit_prior=False;, score=0.846 total time=   0.0s\n",
      "[CV 5/5] END alpha=3.5, class_prior=None, fit_prior=False;, score=0.853 total time=   0.0s\n",
      "[CV 1/5] END alpha=3.5, class_prior=[0.1, 0.9, 0.5], fit_prior=True;, score=nan total time=   0.0s\n",
      "[CV 2/5] END alpha=3.5, class_prior=[0.1, 0.9, 0.5], fit_prior=True;, score=nan total time=   0.0s\n",
      "[CV 3/5] END alpha=3.5, class_prior=[0.1, 0.9, 0.5], fit_prior=True;, score=nan total time=   0.0s\n",
      "[CV 4/5] END alpha=3.5, class_prior=[0.1, 0.9, 0.5], fit_prior=True;, score=nan total time=   0.0s\n",
      "[CV 5/5] END alpha=3.5, class_prior=[0.1, 0.9, 0.5], fit_prior=True;, score=nan total time=   0.0s\n",
      "[CV 1/5] END alpha=3.5, class_prior=[0.1, 0.9, 0.5], fit_prior=False;, score=nan total time=   0.0s\n",
      "[CV 2/5] END alpha=3.5, class_prior=[0.1, 0.9, 0.5], fit_prior=False;, score=nan total time=   0.0s\n",
      "[CV 3/5] END alpha=3.5, class_prior=[0.1, 0.9, 0.5], fit_prior=False;, score=nan total time=   0.0s\n",
      "[CV 4/5] END alpha=3.5, class_prior=[0.1, 0.9, 0.5], fit_prior=False;, score=nan total time=   0.0s\n",
      "[CV 5/5] END alpha=3.5, class_prior=[0.1, 0.9, 0.5], fit_prior=False;, score=nan total time=   0.0s\n",
      "[CV 1/5] END alpha=3.5, class_prior=[0.5, 0.5, 0.2], fit_prior=True;, score=nan total time=   0.0s\n",
      "[CV 2/5] END alpha=3.5, class_prior=[0.5, 0.5, 0.2], fit_prior=True;, score=nan total time=   0.0s\n",
      "[CV 3/5] END alpha=3.5, class_prior=[0.5, 0.5, 0.2], fit_prior=True;, score=nan total time=   0.0s\n",
      "[CV 4/5] END alpha=3.5, class_prior=[0.5, 0.5, 0.2], fit_prior=True;, score=nan total time=   0.0s\n",
      "[CV 5/5] END alpha=3.5, class_prior=[0.5, 0.5, 0.2], fit_prior=True;, score=nan total time=   0.0s\n",
      "[CV 1/5] END alpha=3.5, class_prior=[0.5, 0.5, 0.2], fit_prior=False;, score=nan total time=   0.0s\n",
      "[CV 2/5] END alpha=3.5, class_prior=[0.5, 0.5, 0.2], fit_prior=False;, score=nan total time=   0.0s\n",
      "[CV 3/5] END alpha=3.5, class_prior=[0.5, 0.5, 0.2], fit_prior=False;, score=nan total time=   0.0s\n",
      "[CV 4/5] END alpha=3.5, class_prior=[0.5, 0.5, 0.2], fit_prior=False;, score=nan total time=   0.0s\n",
      "[CV 5/5] END alpha=3.5, class_prior=[0.5, 0.5, 0.2], fit_prior=False;, score=nan total time=   0.0s\n",
      "[CV 1/5] END alpha=3.5, class_prior=[0.9, 0.1, 0.5], fit_prior=True;, score=nan total time=   0.0s\n",
      "[CV 2/5] END alpha=3.5, class_prior=[0.9, 0.1, 0.5], fit_prior=True;, score=nan total time=   0.0s\n",
      "[CV 3/5] END alpha=3.5, class_prior=[0.9, 0.1, 0.5], fit_prior=True;, score=nan total time=   0.0s\n",
      "[CV 4/5] END alpha=3.5, class_prior=[0.9, 0.1, 0.5], fit_prior=True;, score=nan total time=   0.0s\n",
      "[CV 5/5] END alpha=3.5, class_prior=[0.9, 0.1, 0.5], fit_prior=True;, score=nan total time=   0.0s\n",
      "[CV 1/5] END alpha=3.5, class_prior=[0.9, 0.1, 0.5], fit_prior=False;, score=nan total time=   0.0s\n",
      "[CV 2/5] END alpha=3.5, class_prior=[0.9, 0.1, 0.5], fit_prior=False;, score=nan total time=   0.0s\n",
      "[CV 3/5] END alpha=3.5, class_prior=[0.9, 0.1, 0.5], fit_prior=False;, score=nan total time=   0.0s\n",
      "[CV 4/5] END alpha=3.5, class_prior=[0.9, 0.1, 0.5], fit_prior=False;, score=nan total time=   0.0s\n",
      "[CV 5/5] END alpha=3.5, class_prior=[0.9, 0.1, 0.5], fit_prior=False;, score=nan total time=   0.0s\n",
      "[CV 1/5] END alpha=4.0, class_prior=None, fit_prior=True;, score=0.834 total time=   0.0s\n",
      "[CV 2/5] END alpha=4.0, class_prior=None, fit_prior=True;, score=0.835 total time=   0.0s\n",
      "[CV 3/5] END alpha=4.0, class_prior=None, fit_prior=True;, score=0.819 total time=   0.0s\n",
      "[CV 4/5] END alpha=4.0, class_prior=None, fit_prior=True;, score=0.830 total time=   0.0s\n",
      "[CV 5/5] END alpha=4.0, class_prior=None, fit_prior=True;, score=0.836 total time=   0.0s\n",
      "[CV 1/5] END alpha=4.0, class_prior=None, fit_prior=False;, score=0.844 total time=   0.0s\n",
      "[CV 2/5] END alpha=4.0, class_prior=None, fit_prior=False;, score=0.854 total time=   0.0s\n",
      "[CV 3/5] END alpha=4.0, class_prior=None, fit_prior=False;, score=0.837 total time=   0.0s\n",
      "[CV 4/5] END alpha=4.0, class_prior=None, fit_prior=False;, score=0.845 total time=   0.0s\n",
      "[CV 5/5] END alpha=4.0, class_prior=None, fit_prior=False;, score=0.854 total time=   0.0s\n",
      "[CV 1/5] END alpha=4.0, class_prior=[0.1, 0.9, 0.5], fit_prior=True;, score=nan total time=   0.0s\n",
      "[CV 2/5] END alpha=4.0, class_prior=[0.1, 0.9, 0.5], fit_prior=True;, score=nan total time=   0.0s\n",
      "[CV 3/5] END alpha=4.0, class_prior=[0.1, 0.9, 0.5], fit_prior=True;, score=nan total time=   0.0s\n",
      "[CV 4/5] END alpha=4.0, class_prior=[0.1, 0.9, 0.5], fit_prior=True;, score=nan total time=   0.0s\n",
      "[CV 5/5] END alpha=4.0, class_prior=[0.1, 0.9, 0.5], fit_prior=True;, score=nan total time=   0.0s\n",
      "[CV 1/5] END alpha=4.0, class_prior=[0.1, 0.9, 0.5], fit_prior=False;, score=nan total time=   0.0s\n",
      "[CV 2/5] END alpha=4.0, class_prior=[0.1, 0.9, 0.5], fit_prior=False;, score=nan total time=   0.0s\n",
      "[CV 3/5] END alpha=4.0, class_prior=[0.1, 0.9, 0.5], fit_prior=False;, score=nan total time=   0.0s\n",
      "[CV 4/5] END alpha=4.0, class_prior=[0.1, 0.9, 0.5], fit_prior=False;, score=nan total time=   0.0s\n",
      "[CV 5/5] END alpha=4.0, class_prior=[0.1, 0.9, 0.5], fit_prior=False;, score=nan total time=   0.0s\n",
      "[CV 1/5] END alpha=4.0, class_prior=[0.5, 0.5, 0.2], fit_prior=True;, score=nan total time=   0.0s\n",
      "[CV 2/5] END alpha=4.0, class_prior=[0.5, 0.5, 0.2], fit_prior=True;, score=nan total time=   0.0s\n",
      "[CV 3/5] END alpha=4.0, class_prior=[0.5, 0.5, 0.2], fit_prior=True;, score=nan total time=   0.0s\n",
      "[CV 4/5] END alpha=4.0, class_prior=[0.5, 0.5, 0.2], fit_prior=True;, score=nan total time=   0.0s\n",
      "[CV 5/5] END alpha=4.0, class_prior=[0.5, 0.5, 0.2], fit_prior=True;, score=nan total time=   0.0s\n",
      "[CV 1/5] END alpha=4.0, class_prior=[0.5, 0.5, 0.2], fit_prior=False;, score=nan total time=   0.0s\n",
      "[CV 2/5] END alpha=4.0, class_prior=[0.5, 0.5, 0.2], fit_prior=False;, score=nan total time=   0.0s\n",
      "[CV 3/5] END alpha=4.0, class_prior=[0.5, 0.5, 0.2], fit_prior=False;, score=nan total time=   0.0s\n",
      "[CV 4/5] END alpha=4.0, class_prior=[0.5, 0.5, 0.2], fit_prior=False;, score=nan total time=   0.0s\n",
      "[CV 5/5] END alpha=4.0, class_prior=[0.5, 0.5, 0.2], fit_prior=False;, score=nan total time=   0.0s\n",
      "[CV 1/5] END alpha=4.0, class_prior=[0.9, 0.1, 0.5], fit_prior=True;, score=nan total time=   0.0s\n",
      "[CV 2/5] END alpha=4.0, class_prior=[0.9, 0.1, 0.5], fit_prior=True;, score=nan total time=   0.0s\n",
      "[CV 3/5] END alpha=4.0, class_prior=[0.9, 0.1, 0.5], fit_prior=True;, score=nan total time=   0.0s\n",
      "[CV 4/5] END alpha=4.0, class_prior=[0.9, 0.1, 0.5], fit_prior=True;, score=nan total time=   0.0s\n",
      "[CV 5/5] END alpha=4.0, class_prior=[0.9, 0.1, 0.5], fit_prior=True;, score=nan total time=   0.0s\n",
      "[CV 1/5] END alpha=4.0, class_prior=[0.9, 0.1, 0.5], fit_prior=False;, score=nan total time=   0.0s\n",
      "[CV 2/5] END alpha=4.0, class_prior=[0.9, 0.1, 0.5], fit_prior=False;, score=nan total time=   0.0s\n",
      "[CV 3/5] END alpha=4.0, class_prior=[0.9, 0.1, 0.5], fit_prior=False;, score=nan total time=   0.0s\n",
      "[CV 4/5] END alpha=4.0, class_prior=[0.9, 0.1, 0.5], fit_prior=False;, score=nan total time=   0.0s\n",
      "[CV 5/5] END alpha=4.0, class_prior=[0.9, 0.1, 0.5], fit_prior=False;, score=nan total time=   0.0s\n"
     ]
    },
    {
     "name": "stderr",
     "output_type": "stream",
     "text": [
      "C:\\Users\\nokap\\anaconda3\\Lib\\site-packages\\sklearn\\model_selection\\_validation.py:425: FitFailedWarning: \n",
      "210 fits failed out of a total of 280.\n",
      "The score on these train-test partitions for these parameters will be set to nan.\n",
      "If these failures are not expected, you can try to debug them by setting error_score='raise'.\n",
      "\n",
      "Below are more details about the failures:\n",
      "--------------------------------------------------------------------------------\n",
      "210 fits failed with the following error:\n",
      "Traceback (most recent call last):\n",
      "  File \"C:\\Users\\nokap\\anaconda3\\Lib\\site-packages\\sklearn\\model_selection\\_validation.py\", line 732, in _fit_and_score\n",
      "    estimator.fit(X_train, y_train, **fit_params)\n",
      "  File \"C:\\Users\\nokap\\anaconda3\\Lib\\site-packages\\sklearn\\base.py\", line 1151, in wrapper\n",
      "    return fit_method(estimator, *args, **kwargs)\n",
      "           ^^^^^^^^^^^^^^^^^^^^^^^^^^^^^^^^^^^^^^\n",
      "  File \"C:\\Users\\nokap\\anaconda3\\Lib\\site-packages\\sklearn\\naive_bayes.py\", line 775, in fit\n",
      "    self._update_class_log_prior(class_prior=class_prior)\n",
      "  File \"C:\\Users\\nokap\\anaconda3\\Lib\\site-packages\\sklearn\\naive_bayes.py\", line 590, in _update_class_log_prior\n",
      "    raise ValueError(\"Number of priors must match number of classes.\")\n",
      "ValueError: Number of priors must match number of classes.\n",
      "\n",
      "  warnings.warn(some_fits_failed_message, FitFailedWarning)\n",
      "C:\\Users\\nokap\\anaconda3\\Lib\\site-packages\\sklearn\\model_selection\\_search.py:976: UserWarning: One or more of the test scores are non-finite: [0.81730083 0.81683178        nan        nan        nan        nan\n",
      "        nan        nan 0.83724461 0.83716643        nan        nan\n",
      "        nan        nan        nan        nan 0.84193688 0.84428311\n",
      "        nan        nan        nan        nan        nan        nan\n",
      " 0.83951198 0.84741134        nan        nan        nan        nan\n",
      "        nan        nan 0.83442826 0.84795868        nan        nan\n",
      "        nan        nan        nan        nan 0.83255113 0.84733294\n",
      "        nan        nan        nan        nan        nan        nan\n",
      " 0.83098679 0.84686401        nan        nan        nan        nan\n",
      "        nan        nan]\n",
      "  warnings.warn(\n"
     ]
    },
    {
     "data": {
      "text/html": [
       "<style>#sk-container-id-8 {color: black;}#sk-container-id-8 pre{padding: 0;}#sk-container-id-8 div.sk-toggleable {background-color: white;}#sk-container-id-8 label.sk-toggleable__label {cursor: pointer;display: block;width: 100%;margin-bottom: 0;padding: 0.3em;box-sizing: border-box;text-align: center;}#sk-container-id-8 label.sk-toggleable__label-arrow:before {content: \"▸\";float: left;margin-right: 0.25em;color: #696969;}#sk-container-id-8 label.sk-toggleable__label-arrow:hover:before {color: black;}#sk-container-id-8 div.sk-estimator:hover label.sk-toggleable__label-arrow:before {color: black;}#sk-container-id-8 div.sk-toggleable__content {max-height: 0;max-width: 0;overflow: hidden;text-align: left;background-color: #f0f8ff;}#sk-container-id-8 div.sk-toggleable__content pre {margin: 0.2em;color: black;border-radius: 0.25em;background-color: #f0f8ff;}#sk-container-id-8 input.sk-toggleable__control:checked~div.sk-toggleable__content {max-height: 200px;max-width: 100%;overflow: auto;}#sk-container-id-8 input.sk-toggleable__control:checked~label.sk-toggleable__label-arrow:before {content: \"▾\";}#sk-container-id-8 div.sk-estimator input.sk-toggleable__control:checked~label.sk-toggleable__label {background-color: #d4ebff;}#sk-container-id-8 div.sk-label input.sk-toggleable__control:checked~label.sk-toggleable__label {background-color: #d4ebff;}#sk-container-id-8 input.sk-hidden--visually {border: 0;clip: rect(1px 1px 1px 1px);clip: rect(1px, 1px, 1px, 1px);height: 1px;margin: -1px;overflow: hidden;padding: 0;position: absolute;width: 1px;}#sk-container-id-8 div.sk-estimator {font-family: monospace;background-color: #f0f8ff;border: 1px dotted black;border-radius: 0.25em;box-sizing: border-box;margin-bottom: 0.5em;}#sk-container-id-8 div.sk-estimator:hover {background-color: #d4ebff;}#sk-container-id-8 div.sk-parallel-item::after {content: \"\";width: 100%;border-bottom: 1px solid gray;flex-grow: 1;}#sk-container-id-8 div.sk-label:hover label.sk-toggleable__label {background-color: #d4ebff;}#sk-container-id-8 div.sk-serial::before {content: \"\";position: absolute;border-left: 1px solid gray;box-sizing: border-box;top: 0;bottom: 0;left: 50%;z-index: 0;}#sk-container-id-8 div.sk-serial {display: flex;flex-direction: column;align-items: center;background-color: white;padding-right: 0.2em;padding-left: 0.2em;position: relative;}#sk-container-id-8 div.sk-item {position: relative;z-index: 1;}#sk-container-id-8 div.sk-parallel {display: flex;align-items: stretch;justify-content: center;background-color: white;position: relative;}#sk-container-id-8 div.sk-item::before, #sk-container-id-8 div.sk-parallel-item::before {content: \"\";position: absolute;border-left: 1px solid gray;box-sizing: border-box;top: 0;bottom: 0;left: 50%;z-index: -1;}#sk-container-id-8 div.sk-parallel-item {display: flex;flex-direction: column;z-index: 1;position: relative;background-color: white;}#sk-container-id-8 div.sk-parallel-item:first-child::after {align-self: flex-end;width: 50%;}#sk-container-id-8 div.sk-parallel-item:last-child::after {align-self: flex-start;width: 50%;}#sk-container-id-8 div.sk-parallel-item:only-child::after {width: 0;}#sk-container-id-8 div.sk-dashed-wrapped {border: 1px dashed gray;margin: 0 0.4em 0.5em 0.4em;box-sizing: border-box;padding-bottom: 0.4em;background-color: white;}#sk-container-id-8 div.sk-label label {font-family: monospace;font-weight: bold;display: inline-block;line-height: 1.2em;}#sk-container-id-8 div.sk-label-container {text-align: center;}#sk-container-id-8 div.sk-container {/* jupyter's `normalize.less` sets `[hidden] { display: none; }` but bootstrap.min.css set `[hidden] { display: none !important; }` so we also need the `!important` here to be able to override the default hidden behavior on the sphinx rendered scikit-learn.org. See: https://github.com/scikit-learn/scikit-learn/issues/21755 */display: inline-block !important;position: relative;}#sk-container-id-8 div.sk-text-repr-fallback {display: none;}</style><div id=\"sk-container-id-8\" class=\"sk-top-container\"><div class=\"sk-text-repr-fallback\"><pre>GridSearchCV(estimator=MultinomialNB(),\n",
       "             param_grid={&#x27;alpha&#x27;: [0.1, 0.5, 1.0, 2.0, 3.0, 3.5, 4.0],\n",
       "                         &#x27;class_prior&#x27;: [None, [0.1, 0.9, 0.5], [0.5, 0.5, 0.2],\n",
       "                                         [0.9, 0.1, 0.5]],\n",
       "                         &#x27;fit_prior&#x27;: [True, False]},\n",
       "             verbose=3)</pre><b>In a Jupyter environment, please rerun this cell to show the HTML representation or trust the notebook. <br />On GitHub, the HTML representation is unable to render, please try loading this page with nbviewer.org.</b></div><div class=\"sk-container\" hidden><div class=\"sk-item sk-dashed-wrapped\"><div class=\"sk-label-container\"><div class=\"sk-label sk-toggleable\"><input class=\"sk-toggleable__control sk-hidden--visually\" id=\"sk-estimator-id-18\" type=\"checkbox\" ><label for=\"sk-estimator-id-18\" class=\"sk-toggleable__label sk-toggleable__label-arrow\">GridSearchCV</label><div class=\"sk-toggleable__content\"><pre>GridSearchCV(estimator=MultinomialNB(),\n",
       "             param_grid={&#x27;alpha&#x27;: [0.1, 0.5, 1.0, 2.0, 3.0, 3.5, 4.0],\n",
       "                         &#x27;class_prior&#x27;: [None, [0.1, 0.9, 0.5], [0.5, 0.5, 0.2],\n",
       "                                         [0.9, 0.1, 0.5]],\n",
       "                         &#x27;fit_prior&#x27;: [True, False]},\n",
       "             verbose=3)</pre></div></div></div><div class=\"sk-parallel\"><div class=\"sk-parallel-item\"><div class=\"sk-item\"><div class=\"sk-label-container\"><div class=\"sk-label sk-toggleable\"><input class=\"sk-toggleable__control sk-hidden--visually\" id=\"sk-estimator-id-19\" type=\"checkbox\" ><label for=\"sk-estimator-id-19\" class=\"sk-toggleable__label sk-toggleable__label-arrow\">estimator: MultinomialNB</label><div class=\"sk-toggleable__content\"><pre>MultinomialNB()</pre></div></div></div><div class=\"sk-serial\"><div class=\"sk-item\"><div class=\"sk-estimator sk-toggleable\"><input class=\"sk-toggleable__control sk-hidden--visually\" id=\"sk-estimator-id-20\" type=\"checkbox\" ><label for=\"sk-estimator-id-20\" class=\"sk-toggleable__label sk-toggleable__label-arrow\">MultinomialNB</label><div class=\"sk-toggleable__content\"><pre>MultinomialNB()</pre></div></div></div></div></div></div></div></div></div></div>"
      ],
      "text/plain": [
       "GridSearchCV(estimator=MultinomialNB(),\n",
       "             param_grid={'alpha': [0.1, 0.5, 1.0, 2.0, 3.0, 3.5, 4.0],\n",
       "                         'class_prior': [None, [0.1, 0.9, 0.5], [0.5, 0.5, 0.2],\n",
       "                                         [0.9, 0.1, 0.5]],\n",
       "                         'fit_prior': [True, False]},\n",
       "             verbose=3)"
      ]
     },
     "execution_count": 87,
     "metadata": {},
     "output_type": "execute_result"
    }
   ],
   "source": [
    "from sklearn.naive_bayes import MultinomialNB\n",
    "# assuming X_train, X_test, y_train, y_test are already defined\n",
    "param_grid = {\n",
    "    'fit_prior': [True, False],\n",
    "    'alpha': [0.1, 0.5, 1.0, 2.0, 3.0, 3.5, 4.0],\n",
    "    'class_prior': [None, [0.1, 0.9, 0.5], [0.5, 0.5, 0.2], [0.9, 0.1, 0.5]]\n",
    "}\n",
    "grid4 = GridSearchCV(MultinomialNB(),param_grid,refit=True,verbose=3)\n",
    "grid4.fit(X_train_transformed,y_train)"
   ]
  },
  {
   "cell_type": "code",
   "execution_count": 88,
   "id": "a6daa3bd-b079-47fc-b6ef-22a02d999919",
   "metadata": {},
   "outputs": [
    {
     "data": {
      "image/png": "[encoded data removed]",
      "text/plain": [
       "<Figure size 800x600 with 2 Axes>"
      ]
     },
     "metadata": {},
     "output_type": "display_data"
    },
    {
     "name": "stdout",
     "output_type": "stream",
     "text": [
      "              precision    recall  f1-score   support\n",
      "\n",
      "           0       0.84      0.90      0.86      2814\n",
      "           1       0.88      0.81      0.85      2667\n",
      "\n",
      "    accuracy                           0.86      5481\n",
      "   macro avg       0.86      0.85      0.86      5481\n",
      "weighted avg       0.86      0.86      0.86      5481\n",
      "\n"
     ]
    }
   ],
   "source": [
    "grid_predictions = grid4.predict(x_test_transformed)\n",
    "cm = confusion_matrix(y_test, grid_predictions)\n",
    "\n",
    "# Plot confusion matrix with blue color\n",
    "plt.figure(figsize=(8, 6))\n",
    "sns.heatmap(cm, annot=True, fmt='d', cmap='Blues')  # Change 'Reds' to 'Blues' for blue color\n",
    "plt.xlabel('Predicted labels')\n",
    "plt.ylabel('True labels')\n",
    "plt.title('Confusion Matrix')\n",
    "plt.show()\n",
    "print(classification_report(y_test,grid_predictions))"
   ]
  },
  {
   "cell_type": "code",
   "execution_count": 103,
   "id": "a66f575c-3117-431c-8a2b-94a7cc766f15",
   "metadata": {},
   "outputs": [
    {
     "data": {
      "text/html": [
       "<style>#sk-container-id-12 {color: black;}#sk-container-id-12 pre{padding: 0;}#sk-container-id-12 div.sk-toggleable {background-color: white;}#sk-container-id-12 label.sk-toggleable__label {cursor: pointer;display: block;width: 100%;margin-bottom: 0;padding: 0.3em;box-sizing: border-box;text-align: center;}#sk-container-id-12 label.sk-toggleable__label-arrow:before {content: \"▸\";float: left;margin-right: 0.25em;color: #696969;}#sk-container-id-12 label.sk-toggleable__label-arrow:hover:before {color: black;}#sk-container-id-12 div.sk-estimator:hover label.sk-toggleable__label-arrow:before {color: black;}#sk-container-id-12 div.sk-toggleable__content {max-height: 0;max-width: 0;overflow: hidden;text-align: left;background-color: #f0f8ff;}#sk-container-id-12 div.sk-toggleable__content pre {margin: 0.2em;color: black;border-radius: 0.25em;background-color: #f0f8ff;}#sk-container-id-12 input.sk-toggleable__control:checked~div.sk-toggleable__content {max-height: 200px;max-width: 100%;overflow: auto;}#sk-container-id-12 input.sk-toggleable__control:checked~label.sk-toggleable__label-arrow:before {content: \"▾\";}#sk-container-id-12 div.sk-estimator input.sk-toggleable__control:checked~label.sk-toggleable__label {background-color: #d4ebff;}#sk-container-id-12 div.sk-label input.sk-toggleable__control:checked~label.sk-toggleable__label {background-color: #d4ebff;}#sk-container-id-12 input.sk-hidden--visually {border: 0;clip: rect(1px 1px 1px 1px);clip: rect(1px, 1px, 1px, 1px);height: 1px;margin: -1px;overflow: hidden;padding: 0;position: absolute;width: 1px;}#sk-container-id-12 div.sk-estimator {font-family: monospace;background-color: #f0f8ff;border: 1px dotted black;border-radius: 0.25em;box-sizing: border-box;margin-bottom: 0.5em;}#sk-container-id-12 div.sk-estimator:hover {background-color: #d4ebff;}#sk-container-id-12 div.sk-parallel-item::after {content: \"\";width: 100%;border-bottom: 1px solid gray;flex-grow: 1;}#sk-container-id-12 div.sk-label:hover label.sk-toggleable__label {background-color: #d4ebff;}#sk-container-id-12 div.sk-serial::before {content: \"\";position: absolute;border-left: 1px solid gray;box-sizing: border-box;top: 0;bottom: 0;left: 50%;z-index: 0;}#sk-container-id-12 div.sk-serial {display: flex;flex-direction: column;align-items: center;background-color: white;padding-right: 0.2em;padding-left: 0.2em;position: relative;}#sk-container-id-12 div.sk-item {position: relative;z-index: 1;}#sk-container-id-12 div.sk-parallel {display: flex;align-items: stretch;justify-content: center;background-color: white;position: relative;}#sk-container-id-12 div.sk-item::before, #sk-container-id-12 div.sk-parallel-item::before {content: \"\";position: absolute;border-left: 1px solid gray;box-sizing: border-box;top: 0;bottom: 0;left: 50%;z-index: -1;}#sk-container-id-12 div.sk-parallel-item {display: flex;flex-direction: column;z-index: 1;position: relative;background-color: white;}#sk-container-id-12 div.sk-parallel-item:first-child::after {align-self: flex-end;width: 50%;}#sk-container-id-12 div.sk-parallel-item:last-child::after {align-self: flex-start;width: 50%;}#sk-container-id-12 div.sk-parallel-item:only-child::after {width: 0;}#sk-container-id-12 div.sk-dashed-wrapped {border: 1px dashed gray;margin: 0 0.4em 0.5em 0.4em;box-sizing: border-box;padding-bottom: 0.4em;background-color: white;}#sk-container-id-12 div.sk-label label {font-family: monospace;font-weight: bold;display: inline-block;line-height: 1.2em;}#sk-container-id-12 div.sk-label-container {text-align: center;}#sk-container-id-12 div.sk-container {/* jupyter's `normalize.less` sets `[hidden] { display: none; }` but bootstrap.min.css set `[hidden] { display: none !important; }` so we also need the `!important` here to be able to override the default hidden behavior on the sphinx rendered scikit-learn.org. See: https://github.com/scikit-learn/scikit-learn/issues/21755 */display: inline-block !important;position: relative;}#sk-container-id-12 div.sk-text-repr-fallback {display: none;}</style><div id=\"sk-container-id-12\" class=\"sk-top-container\"><div class=\"sk-text-repr-fallback\"><pre>GridSearchCV(estimator=MultinomialNB(),\n",
       "             param_grid={&#x27;alpha&#x27;: [0.1, 0.5, 1.0, 2.0, 3.0, 3.5, 4.0],\n",
       "                         &#x27;class_prior&#x27;: [None, [0.1, 0.9, 0.5], [0.5, 0.5, 0.2],\n",
       "                                         [0.9, 0.1, 0.5]],\n",
       "                         &#x27;fit_prior&#x27;: [True, False]},\n",
       "             verbose=3)</pre><b>In a Jupyter environment, please rerun this cell to show the HTML representation or trust the notebook. <br />On GitHub, the HTML representation is unable to render, please try loading this page with nbviewer.org.</b></div><div class=\"sk-container\" hidden><div class=\"sk-item sk-dashed-wrapped\"><div class=\"sk-label-container\"><div class=\"sk-label sk-toggleable\"><input class=\"sk-toggleable__control sk-hidden--visually\" id=\"sk-estimator-id-28\" type=\"checkbox\" ><label for=\"sk-estimator-id-28\" class=\"sk-toggleable__label sk-toggleable__label-arrow\">GridSearchCV</label><div class=\"sk-toggleable__content\"><pre>GridSearchCV(estimator=MultinomialNB(),\n",
       "             param_grid={&#x27;alpha&#x27;: [0.1, 0.5, 1.0, 2.0, 3.0, 3.5, 4.0],\n",
       "                         &#x27;class_prior&#x27;: [None, [0.1, 0.9, 0.5], [0.5, 0.5, 0.2],\n",
       "                                         [0.9, 0.1, 0.5]],\n",
       "                         &#x27;fit_prior&#x27;: [True, False]},\n",
       "             verbose=3)</pre></div></div></div><div class=\"sk-parallel\"><div class=\"sk-parallel-item\"><div class=\"sk-item\"><div class=\"sk-label-container\"><div class=\"sk-label sk-toggleable\"><input class=\"sk-toggleable__control sk-hidden--visually\" id=\"sk-estimator-id-29\" type=\"checkbox\" ><label for=\"sk-estimator-id-29\" class=\"sk-toggleable__label sk-toggleable__label-arrow\">estimator: MultinomialNB</label><div class=\"sk-toggleable__content\"><pre>MultinomialNB()</pre></div></div></div><div class=\"sk-serial\"><div class=\"sk-item\"><div class=\"sk-estimator sk-toggleable\"><input class=\"sk-toggleable__control sk-hidden--visually\" id=\"sk-estimator-id-30\" type=\"checkbox\" ><label for=\"sk-estimator-id-30\" class=\"sk-toggleable__label sk-toggleable__label-arrow\">MultinomialNB</label><div class=\"sk-toggleable__content\"><pre>MultinomialNB()</pre></div></div></div></div></div></div></div></div></div></div>"
      ],
      "text/plain": [
       "GridSearchCV(estimator=MultinomialNB(),\n",
       "             param_grid={'alpha': [0.1, 0.5, 1.0, 2.0, 3.0, 3.5, 4.0],\n",
       "                         'class_prior': [None, [0.1, 0.9, 0.5], [0.5, 0.5, 0.2],\n",
       "                                         [0.9, 0.1, 0.5]],\n",
       "                         'fit_prior': [True, False]},\n",
       "             verbose=3)"
      ]
     },
     "execution_count": 103,
     "metadata": {},
     "output_type": "execute_result"
    }
   ],
   "source": [
    "grid4"
   ]
  },
  {
   "cell_type": "code",
   "execution_count": 104,
   "id": "8a64a36d-2912-4013-9f93-6f4b20201b28",
   "metadata": {},
   "outputs": [],
   "source": [
    "with open(\"nb.pkl\", 'wb') as f:\n",
    "    pickle.dump(grid4, f)"
   ]
  },
  {
   "cell_type": "code",
   "execution_count": 89,
   "id": "70ef1d2c-bed2-4294-a5a3-00a72f3dd9bb",
   "metadata": {},
   "outputs": [
    {
     "name": "stderr",
     "output_type": "stream",
     "text": [
      "C:\\Users\\nokap\\anaconda3\\Lib\\site-packages\\seaborn\\_oldcore.py:1765: FutureWarning: unique with argument that is not not a Series, Index, ExtensionArray, or np.ndarray is deprecated and will raise in a future version.\n",
      "  order = pd.unique(vector)\n"
     ]
    },
    {
     "data": {
      "image/png": "[encoded data removed]",
      "text/plain": [
       "<Figure size 1000x500 with 1 Axes>"
      ]
     },
     "metadata": {},
     "output_type": "display_data"
    }
   ],
   "source": [
    "love_texts = df[df['Sentiment'] == 0]['text']\n",
    "from nltk.tokenize import word_tokenize\n",
    "from collections import Counter\n",
    "# Tokenize the text and count the frequency of each word\n",
    "words = [word.lower() for text in love_texts for word in word_tokenize(text)]\n",
    "word_freq = Counter(words)\n",
    "\n",
    "# Get the top 20 words\n",
    "top_20_words = dict(word_freq.most_common(20))\n",
    "\n",
    "# Set the background color and theme\n",
    "background_color = '#5fa1bc'\n",
    "sns.set_theme(style=\"whitegrid\", rc={\"axes.facecolor\": background_color})\n",
    "\n",
    "# Create a bar plot\n",
    "plt.figure(figsize=(10, 5))\n",
    "p = sns.barplot(x=list(top_20_words.keys()), y=list(top_20_words.values()), palette='magma', edgecolor='#1c1c1c', linewidth=2)\n",
    "for container in p.containers:\n",
    "    plt.bar_label(container, label_type=\"edge\", color=\"black\", fontsize=9, padding=6, position=(0.5, 0.5),\n",
    "                  bbox={\"boxstyle\": \"round\", \"pad\": 0.2, \"facecolor\": \"white\", \"edgecolor\": \"black\", \"linewidth\": 2, \"alpha\": 1})\n",
    "plt.title(\"Top 20 Words Associated with Positive\", fontsize=20, fontweight='bold')\n",
    "plt.xlabel(\"Words\", fontsize=10 )\n",
    "plt.ylabel(\"Frequency\", fontsize=10)\n",
    "plt.xticks(rotation=80, fontsize=12,)\n",
    "plt.yticks(fontsize=12)\n",
    "plt.tight_layout()\n",
    "plt.show()"
   ]
  },
  {
   "cell_type": "code",
   "execution_count": 90,
   "id": "4866afd3-b85d-4fd9-ad2b-2bffad52cfbd",
   "metadata": {},
   "outputs": [
    {
     "name": "stderr",
     "output_type": "stream",
     "text": [
      "C:\\Users\\nokap\\anaconda3\\Lib\\site-packages\\seaborn\\_oldcore.py:1765: FutureWarning: unique with argument that is not not a Series, Index, ExtensionArray, or np.ndarray is deprecated and will raise in a future version.\n",
      "  order = pd.unique(vector)\n"
     ]
    },
    {
     "data": {
      "image/png": "[encoded data removed]",
      "text/plain": [
       "<Figure size 1000x500 with 1 Axes>"
      ]
     },
     "metadata": {},
     "output_type": "display_data"
    }
   ],
   "source": [
    "love_texts = df[df['Sentiment'] == 1]['text']\n",
    "\n",
    "# Tokenize the text and count the frequency of each word\n",
    "words = [word.lower() for text in love_texts for word in word_tokenize(text)]\n",
    "word_freq = Counter(words)\n",
    "\n",
    "# Get the top 20 words\n",
    "top_20_words = dict(word_freq.most_common(20))\n",
    "\n",
    "# Set the background color and theme\n",
    "background_color = '#5fa1bc'\n",
    "sns.set_theme(style=\"whitegrid\", rc={\"axes.facecolor\": background_color})\n",
    "\n",
    "# Create a bar plot\n",
    "plt.figure(figsize=(10, 5))\n",
    "p = sns.barplot(x=list(top_20_words.keys()), y=list(top_20_words.values()), palette='magma', edgecolor='#1c1c1c', linewidth=2)\n",
    "for container in p.containers:\n",
    "    plt.bar_label(container, label_type=\"edge\", color=\"black\", fontsize=9, padding=6, position=(0.5, 0.5),\n",
    "                  bbox={\"boxstyle\": \"round\", \"pad\": 0.2, \"facecolor\": \"white\", \"edgecolor\": \"black\", \"linewidth\": 2, \"alpha\": 1})\n",
    "plt.title(\"Top 20 Words Associated with Negative\", fontsize=20, fontweight='bold')\n",
    "plt.xlabel(\"Words\", fontsize=10 )\n",
    "plt.ylabel(\"Frequency\", fontsize=10)\n",
    "plt.xticks(rotation=80, fontsize=12,)\n",
    "plt.yticks(fontsize=12)\n",
    "plt.tight_layout()\n",
    "plt.show()"
   ]
  },
  {
   "cell_type": "code",
   "execution_count": 91,
   "id": "94ff0fcd-6d3e-47cf-a9d8-be03963da8a4",
   "metadata": {},
   "outputs": [
    {
     "data": {
      "image/png": "[encoded data removed]",
      "text/plain": [
       "<Figure size 1200x600 with 2 Axes>"
      ]
     },
     "metadata": {},
     "output_type": "display_data"
    }
   ],
   "source": [
    "# Value count of 'label'\n",
    "count = df['Sentiment'].value_counts()\n",
    "\n",
    "# Set the background color and theme\n",
    "background_color = '#5fa1bc'\n",
    "sns.set_theme(style=\"whitegrid\", rc={\"axes.facecolor\": background_color, 'figure.facecolor': background_color})\n",
    "\n",
    "# Create a figure with two subplots\n",
    "fig, axs = plt.subplots(1, 2, figsize=(12, 6), facecolor=background_color)\n",
    "\n",
    "# Plot pie chart on the first subplot\n",
    "palette = sns.color_palette(\"bright\", len(count))\n",
    "sns.set_palette(palette)\n",
    "axs[0].pie(count, labels=count.index, autopct='%1.1f%%', startangle=140)\n",
    "axs[0].set_title('Distribution of Categories', fontsize=15, fontweight='bold')\n",
    "\n",
    "# Plot bar chart on the second subplot\n",
    "sns.barplot(x=count.index, y=count.values, ax=axs[1], palette=palette)\n",
    "axs[1].set_title('Count of Categories', fontsize=15, fontweight='bold')\n",
    "\n",
    "# Adjust layout\n",
    "plt.tight_layout()\n",
    "\n",
    "# Show the plot\n",
    "plt.show()"
   ]
  },
  {
   "cell_type": "code",
   "execution_count": null,
   "id": "31585add-d260-4169-8033-f341b38584b5",
   "metadata": {},
   "outputs": [],
   "source": []
  }
 ],
 "metadata": {
  "kernelspec": {
   "display_name": "Python 3 (ipykernel)",
   "language": "python",
   "name": "python3"
  },
  "language_info": {
   "codemirror_mode": {
    "name": "ipython",
    "version": 3
   },
   "file_extension": ".py",
   "mimetype": "text/x-python",
   "name": "python",
   "nbconvert_exporter": "python",
   "pygments_lexer": "ipython3",
   "version": "3.11.8"
  }
 },
 "nbformat": 4,
 "nbformat_minor": 5
}
