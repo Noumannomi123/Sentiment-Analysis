{
 "cells": [
  {
   "cell_type": "code",
   "execution_count": 1,
   "id": "49fab2d0-5990-4f55-b014-9561282cc08a",
   "metadata": {},
   "outputs": [],
   "source": [
    "import pandas as pd"
   ]
  },
  {
   "cell_type": "code",
   "execution_count": 24,
   "id": "c3c1e26e-0e69-4855-8994-0981b3a9b7f6",
   "metadata": {},
   "outputs": [],
   "source": [
    "df = pd.read_excel('Messages/messages.xlsx')"
   ]
  },
  {
   "cell_type": "code",
   "execution_count": 25,
   "id": "47889536-c044-462e-bfc3-63f003e6de35",
   "metadata": {},
   "outputs": [],
   "source": [
    "df2 = pd.read_excel('Messages/Ahmad_labeled_messages.xlsx') # 651 - end"
   ]
  },
  {
   "cell_type": "code",
   "execution_count": 44,
   "id": "12bc3e54-9fa4-4234-b055-48631733c509",
   "metadata": {},
   "outputs": [],
   "source": [
    "df3 = pd.read_excel('Messages/sauban_messages.xlsx') # 151 - 650"
   ]
  },
  {
   "cell_type": "code",
   "execution_count": 27,
   "id": "54f0799a-dae5-4e1e-850a-13b873a4ceeb",
   "metadata": {},
   "outputs": [
    {
     "data": {
      "text/plain": [
       "Message              Yes we can and we think u are cool when not ge...\n",
       "Sentiment                                                            1\n",
       "Message type hint                             Positive: 0, 1: Negative\n",
       "Name: 148, dtype: object"
      ]
     },
     "execution_count": 27,
     "metadata": {},
     "output_type": "execute_result"
    }
   ],
   "source": [
    "df.iloc[148]"
   ]
  },
  {
   "cell_type": "code",
   "execution_count": 51,
   "id": "f070c9ef-d621-4ba4-8ae2-c3a8e2caa5f9",
   "metadata": {},
   "outputs": [],
   "source": [
    "df.iloc[149:649] = df3.iloc[149:649]"
   ]
  },
  {
   "cell_type": "code",
   "execution_count": 63,
   "id": "326e33af-a766-4baa-9556-3e9f5aff0662",
   "metadata": {},
   "outputs": [],
   "source": [
    "df.iloc[649:] = df2.iloc[649:]"
   ]
  },
  {
   "cell_type": "code",
   "execution_count": 67,
   "id": "98f759bf-4a69-4c6a-af99-973a79773fb0",
   "metadata": {},
   "outputs": [
    {
     "data": {
      "text/plain": [
       "Sentiment\n",
       " 0    564\n",
       " 1    490\n",
       "-1     62\n",
       "Name: count, dtype: int64"
      ]
     },
     "execution_count": 67,
     "metadata": {},
     "output_type": "execute_result"
    }
   ],
   "source": [
    "df['Sentiment'].value_counts()"
   ]
  },
  {
   "cell_type": "code",
   "execution_count": 68,
   "id": "dba230f0-8622-48a6-9a58-93a59e949ebc",
   "metadata": {},
   "outputs": [],
   "source": [
    "df = df[(df['Sentiment'] == 0) | (df['Sentiment'] == 1)]"
   ]
  },
  {
   "cell_type": "code",
   "execution_count": 69,
   "id": "b22b4eee-c6c1-4f82-b587-172c6faefd6e",
   "metadata": {},
   "outputs": [
    {
     "data": {
      "text/plain": [
       "Sentiment\n",
       "0    564\n",
       "1    490\n",
       "Name: count, dtype: int64"
      ]
     },
     "execution_count": 69,
     "metadata": {},
     "output_type": "execute_result"
    }
   ],
   "source": [
    "df['Sentiment'].value_counts()"
   ]
  },
  {
   "cell_type": "code",
   "execution_count": 72,
   "id": "a842d940-4cce-4a14-ae6f-4d2a0255ca64",
   "metadata": {},
   "outputs": [
    {
     "data": {
      "text/plain": [
       "1054"
      ]
     },
     "execution_count": 72,
     "metadata": {},
     "output_type": "execute_result"
    }
   ],
   "source": [
    "len(df)"
   ]
  },
  {
   "cell_type": "code",
   "execution_count": 74,
   "id": "7e4de98b-4e0c-4101-a0a6-31fba7b8aae1",
   "metadata": {},
   "outputs": [],
   "source": [
    "df.drop('Message type hint',axis=1,inplace=True)"
   ]
  },
  {
   "cell_type": "code",
   "execution_count": 77,
   "id": "32789677-703c-4111-b46a-574a0a6b419b",
   "metadata": {},
   "outputs": [],
   "source": [
    "df.to_excel('Messages/final_msgz.xlsx',index=False)"
   ]
  },
  {
   "cell_type": "code",
   "execution_count": 78,
   "id": "39fcc2e3-f219-4956-8c99-a49de61b0815",
   "metadata": {},
   "outputs": [
    {
     "data": {
      "text/html": [
       "<div>\n",
       "<style scoped>\n",
       "    .dataframe tbody tr th:only-of-type {\n",
       "        vertical-align: middle;\n",
       "    }\n",
       "\n",
       "    .dataframe tbody tr th {\n",
       "        vertical-align: top;\n",
       "    }\n",
       "\n",
       "    .dataframe thead th {\n",
       "        text-align: right;\n",
       "    }\n",
       "</style>\n",
       "<table border=\"1\" class=\"dataframe\">\n",
       "  <thead>\n",
       "    <tr style=\"text-align: right;\">\n",
       "      <th></th>\n",
       "      <th>Message</th>\n",
       "      <th>Sentiment</th>\n",
       "    </tr>\n",
       "  </thead>\n",
       "  <tbody>\n",
       "    <tr>\n",
       "      <th>0</th>\n",
       "      <td>I’ve been choking myself trying not to laugh a...</td>\n",
       "      <td>0</td>\n",
       "    </tr>\n",
       "    <tr>\n",
       "      <th>1</th>\n",
       "      <td>His brother and McCarthy are a WHOLE other lev...</td>\n",
       "      <td>1</td>\n",
       "    </tr>\n",
       "    <tr>\n",
       "      <th>2</th>\n",
       "      <td>Thinking will get you 20mins at the reconditio...</td>\n",
       "      <td>1</td>\n",
       "    </tr>\n",
       "    <tr>\n",
       "      <th>4</th>\n",
       "      <td>*The vocal loudmouth part of the fanbase Regul...</td>\n",
       "      <td>1</td>\n",
       "    </tr>\n",
       "    <tr>\n",
       "      <th>5</th>\n",
       "      <td>Bezos owns like 10% of Amazon, Zuck is an outl...</td>\n",
       "      <td>0</td>\n",
       "    </tr>\n",
       "  </tbody>\n",
       "</table>\n",
       "</div>"
      ],
      "text/plain": [
       "                                             Message  Sentiment\n",
       "0  I’ve been choking myself trying not to laugh a...          0\n",
       "1  His brother and McCarthy are a WHOLE other lev...          1\n",
       "2  Thinking will get you 20mins at the reconditio...          1\n",
       "4  *The vocal loudmouth part of the fanbase Regul...          1\n",
       "5  Bezos owns like 10% of Amazon, Zuck is an outl...          0"
      ]
     },
     "execution_count": 78,
     "metadata": {},
     "output_type": "execute_result"
    }
   ],
   "source": [
    "df.head()"
   ]
  },
  {
   "cell_type": "code",
   "execution_count": null,
   "id": "deb5b869-509a-46fa-a5e8-028350dafe25",
   "metadata": {},
   "outputs": [],
   "source": []
  }
 ],
 "metadata": {
  "kernelspec": {
   "display_name": "Python 3 (ipykernel)",
   "language": "python",
   "name": "python3"
  },
  "language_info": {
   "codemirror_mode": {
    "name": "ipython",
    "version": 3
   },
   "file_extension": ".py",
   "mimetype": "text/x-python",
   "name": "python",
   "nbconvert_exporter": "python",
   "pygments_lexer": "ipython3",
   "version": "3.11.8"
  }
 },
 "nbformat": 4,
 "nbformat_minor": 5
}
